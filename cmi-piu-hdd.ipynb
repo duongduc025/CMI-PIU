{
 "cells": [
  {
   "cell_type": "code",
   "execution_count": 1,
   "id": "4bdaf842",
   "metadata": {
    "_cell_guid": "b1076dfc-b9ad-4769-8c92-a6c4dae69d19",
    "_uuid": "8f2839f25d086af736a60e9eeb907d3b93b6e0e5",
    "execution": {
     "iopub.execute_input": "2024-12-19T06:11:54.799949Z",
     "iopub.status.busy": "2024-12-19T06:11:54.799651Z",
     "iopub.status.idle": "2024-12-19T06:12:03.728193Z",
     "shell.execute_reply": "2024-12-19T06:12:03.727383Z"
    },
    "papermill": {
     "duration": 8.936717,
     "end_time": "2024-12-19T06:12:03.730216",
     "exception": false,
     "start_time": "2024-12-19T06:11:54.793499",
     "status": "completed"
    },
    "tags": []
   },
   "outputs": [],
   "source": [
    "import os\n",
    "import re\n",
    "import math\n",
    "import random\n",
    "import warnings\n",
    "from copy import deepcopy\n",
    "from concurrent.futures import ThreadPoolExecutor\n",
    "\n",
    "import numpy as np\n",
    "import pandas as pd\n",
    "import polars as pl\n",
    "import matplotlib.pyplot as plt\n",
    "import seaborn as sns\n",
    "import seaborn as sb\n",
    "from colorama import Fore, Style\n",
    "from tqdm import tqdm\n",
    "from IPython.display import clear_output\n",
    "\n",
    "from scipy.optimize import minimize\n",
    "from bayes_opt import BayesianOptimization\n",
    "from skopt import BayesSearchCV\n",
    "\n",
    "import torch\n",
    "import torch.nn as nn\n",
    "import torch.optim as optim\n",
    "from torch.utils.data import DataLoader, TensorDataset\n",
    "\n",
    "import optuna\n",
    "\n",
    "from sklearn.base import clone\n",
    "from sklearn.pipeline import Pipeline\n",
    "from sklearn.decomposition import PCA\n",
    "from sklearn.preprocessing import StandardScaler\n",
    "from sklearn.impute import SimpleImputer, KNNImputer\n",
    "from sklearn.model_selection import (\n",
    "    train_test_split,\n",
    "    StratifiedKFold,\n",
    "    GridSearchCV,\n",
    "    cross_val_score\n",
    ")\n",
    "from sklearn.ensemble import (\n",
    "    RandomForestClassifier,\n",
    "    RandomForestRegressor,\n",
    "    GradientBoostingRegressor,\n",
    "    VotingClassifier,\n",
    "    VotingRegressor\n",
    ")\n",
    "from sklearn.metrics import (\n",
    "    accuracy_score,\n",
    "    cohen_kappa_score,\n",
    "    make_scorer,\n",
    "    classification_report,\n",
    "    confusion_matrix\n",
    ")\n",
    "\n",
    "from lightgbm import LGBMClassifier, LGBMRegressor\n",
    "import lightgbm as lgb\n",
    "from xgboost import XGBClassifier, XGBRegressor\n",
    "from catboost import CatBoostClassifier, CatBoostRegressor\n",
    "\n",
    "warnings.filterwarnings('ignore')\n",
    "\n",
    "\n",
    "n_splits = 5\n",
    "SEED = 42"
   ]
  },
  {
   "cell_type": "markdown",
   "id": "4a69d3ab",
   "metadata": {
    "papermill": {
     "duration": 0.005356,
     "end_time": "2024-12-19T06:12:03.740354",
     "exception": false,
     "start_time": "2024-12-19T06:12:03.734998",
     "status": "completed"
    },
    "tags": []
   },
   "source": [
    "# Data Loading"
   ]
  },
  {
   "cell_type": "markdown",
   "id": "8a94f856",
   "metadata": {
    "papermill": {
     "duration": 0.004171,
     "end_time": "2024-12-19T06:12:03.748804",
     "exception": false,
     "start_time": "2024-12-19T06:12:03.744633",
     "status": "completed"
    },
    "tags": []
   },
   "source": [
    "## Load tabular dataset"
   ]
  },
  {
   "cell_type": "code",
   "execution_count": 2,
   "id": "15a08edd",
   "metadata": {
    "execution": {
     "iopub.execute_input": "2024-12-19T06:12:03.759978Z",
     "iopub.status.busy": "2024-12-19T06:12:03.759031Z",
     "iopub.status.idle": "2024-12-19T06:12:03.831348Z",
     "shell.execute_reply": "2024-12-19T06:12:03.830632Z"
    },
    "papermill": {
     "duration": 0.080006,
     "end_time": "2024-12-19T06:12:03.833065",
     "exception": false,
     "start_time": "2024-12-19T06:12:03.753059",
     "status": "completed"
    },
    "tags": []
   },
   "outputs": [],
   "source": [
    "train = pd.read_csv('/kaggle/input/child-mind-institute-problematic-internet-use/train.csv')\n",
    "test = pd.read_csv('/kaggle/input/child-mind-institute-problematic-internet-use/test.csv')\n",
    "sample = pd.read_csv('/kaggle/input/child-mind-institute-problematic-internet-use/sample_submission.csv')"
   ]
  },
  {
   "cell_type": "markdown",
   "id": "a9138c62",
   "metadata": {
    "papermill": {
     "duration": 0.004269,
     "end_time": "2024-12-19T06:12:03.841824",
     "exception": false,
     "start_time": "2024-12-19T06:12:03.837555",
     "status": "completed"
    },
    "tags": []
   },
   "source": [
    "## Load timeseries data"
   ]
  },
  {
   "cell_type": "code",
   "execution_count": 3,
   "id": "c7669880",
   "metadata": {
    "execution": {
     "iopub.execute_input": "2024-12-19T06:12:03.852174Z",
     "iopub.status.busy": "2024-12-19T06:12:03.851865Z",
     "iopub.status.idle": "2024-12-19T06:12:03.857649Z",
     "shell.execute_reply": "2024-12-19T06:12:03.856915Z"
    },
    "papermill": {
     "duration": 0.012586,
     "end_time": "2024-12-19T06:12:03.859229",
     "exception": false,
     "start_time": "2024-12-19T06:12:03.846643",
     "status": "completed"
    },
    "tags": []
   },
   "outputs": [],
   "source": [
    "def process_file(filename, dirname):\n",
    "    df = pd.read_parquet(os.path.join(dirname, filename, 'part-0.parquet'))\n",
    "    df.drop('step', axis=1, inplace=True)\n",
    "    return df.describe().values.reshape(-1), filename.split('=')[1]\n",
    "\n",
    "def load_time_series(dirname) -> pd.DataFrame:\n",
    "    ids = os.listdir(dirname)\n",
    "    \n",
    "    with ThreadPoolExecutor() as executor:\n",
    "        results = list(tqdm(executor.map(lambda fname: process_file(fname, dirname), ids), total=len(ids)))\n",
    "    \n",
    "    stats, indexes = zip(*results)\n",
    "    \n",
    "    df = pd.DataFrame(stats, columns=[f\"Stat_{i}\" for i in range(len(stats[0]))])\n",
    "    df['id'] = indexes\n",
    "    \n",
    "    return df"
   ]
  },
  {
   "cell_type": "code",
   "execution_count": 4,
   "id": "c09c9236",
   "metadata": {
    "execution": {
     "iopub.execute_input": "2024-12-19T06:12:03.868899Z",
     "iopub.status.busy": "2024-12-19T06:12:03.868626Z",
     "iopub.status.idle": "2024-12-19T06:13:16.847284Z",
     "shell.execute_reply": "2024-12-19T06:13:16.846234Z"
    },
    "papermill": {
     "duration": 72.985373,
     "end_time": "2024-12-19T06:13:16.848985",
     "exception": false,
     "start_time": "2024-12-19T06:12:03.863612",
     "status": "completed"
    },
    "tags": []
   },
   "outputs": [
    {
     "name": "stderr",
     "output_type": "stream",
     "text": [
      "100%|██████████| 996/996 [01:12<00:00, 13.71it/s]\n",
      "100%|██████████| 2/2 [00:00<00:00,  8.41it/s]\n"
     ]
    }
   ],
   "source": [
    "train_ts = load_time_series(\"/kaggle/input/child-mind-institute-problematic-internet-use/series_train.parquet\")\n",
    "test_ts = load_time_series(\"/kaggle/input/child-mind-institute-problematic-internet-use/series_test.parquet\")\n",
    "time_series_cols = train_ts.columns.tolist()\n",
    "time_series_cols.remove(\"id\")"
   ]
  },
  {
   "cell_type": "markdown",
   "id": "4b77c9dc",
   "metadata": {
    "papermill": {
     "duration": 0.017915,
     "end_time": "2024-12-19T06:13:16.885062",
     "exception": false,
     "start_time": "2024-12-19T06:13:16.867147",
     "status": "completed"
    },
    "tags": []
   },
   "source": [
    "Time series data is then merged to the tabular data"
   ]
  },
  {
   "cell_type": "code",
   "execution_count": 5,
   "id": "29a3026b",
   "metadata": {
    "execution": {
     "iopub.execute_input": "2024-12-19T06:13:16.922850Z",
     "iopub.status.busy": "2024-12-19T06:13:16.922176Z",
     "iopub.status.idle": "2024-12-19T06:13:16.952493Z",
     "shell.execute_reply": "2024-12-19T06:13:16.951526Z"
    },
    "papermill": {
     "duration": 0.052136,
     "end_time": "2024-12-19T06:13:16.954434",
     "exception": false,
     "start_time": "2024-12-19T06:13:16.902298",
     "status": "completed"
    },
    "tags": []
   },
   "outputs": [],
   "source": [
    "train = pd.merge(train, train_ts, how=\"left\", on='id')\n",
    "test = pd.merge(test, test_ts, how=\"left\", on='id')\n",
    "\n",
    "train = train.drop('id', axis=1)\n",
    "test = test.drop('id', axis=1)\n"
   ]
  },
  {
   "cell_type": "markdown",
   "id": "daedd8bd",
   "metadata": {
    "papermill": {
     "duration": 0.016943,
     "end_time": "2024-12-19T06:13:16.990418",
     "exception": false,
     "start_time": "2024-12-19T06:13:16.973475",
     "status": "completed"
    },
    "tags": []
   },
   "source": [
    "# Data Filtering"
   ]
  },
  {
   "cell_type": "markdown",
   "id": "958d6c7c",
   "metadata": {
    "papermill": {
     "duration": 0.016695,
     "end_time": "2024-12-19T06:13:17.024075",
     "exception": false,
     "start_time": "2024-12-19T06:13:17.007380",
     "status": "completed"
    },
    "tags": []
   },
   "source": [
    "Select the columns which is present in test data to train"
   ]
  },
  {
   "cell_type": "code",
   "execution_count": 6,
   "id": "a09046ce",
   "metadata": {
    "execution": {
     "iopub.execute_input": "2024-12-19T06:13:17.060121Z",
     "iopub.status.busy": "2024-12-19T06:13:17.059316Z",
     "iopub.status.idle": "2024-12-19T06:13:17.067156Z",
     "shell.execute_reply": "2024-12-19T06:13:17.066514Z"
    },
    "papermill": {
     "duration": 0.027819,
     "end_time": "2024-12-19T06:13:17.068861",
     "exception": false,
     "start_time": "2024-12-19T06:13:17.041042",
     "status": "completed"
    },
    "tags": []
   },
   "outputs": [],
   "source": [
    "featuresCols = ['Basic_Demos-Enroll_Season', 'Basic_Demos-Age', 'Basic_Demos-Sex',\n",
    "                'CGAS-Season', 'CGAS-CGAS_Score', 'Physical-Season', 'Physical-BMI',\n",
    "                'Physical-Height', 'Physical-Weight', 'Physical-Waist_Circumference',\n",
    "                'Physical-Diastolic_BP', 'Physical-HeartRate', 'Physical-Systolic_BP',\n",
    "                'Fitness_Endurance-Season', 'Fitness_Endurance-Max_Stage',\n",
    "                'Fitness_Endurance-Time_Mins', 'Fitness_Endurance-Time_Sec',\n",
    "                'FGC-Season', 'FGC-FGC_CU', 'FGC-FGC_CU_Zone', 'FGC-FGC_GSND',\n",
    "                'FGC-FGC_GSND_Zone', 'FGC-FGC_GSD', 'FGC-FGC_GSD_Zone', 'FGC-FGC_PU',\n",
    "                'FGC-FGC_PU_Zone', 'FGC-FGC_SRL', 'FGC-FGC_SRL_Zone', 'FGC-FGC_SRR',\n",
    "                'FGC-FGC_SRR_Zone', 'FGC-FGC_TL', 'FGC-FGC_TL_Zone', 'BIA-Season',\n",
    "                'BIA-BIA_Activity_Level_num', 'BIA-BIA_BMC', 'BIA-BIA_BMI',\n",
    "                'BIA-BIA_BMR', 'BIA-BIA_DEE', 'BIA-BIA_ECW', 'BIA-BIA_FFM',\n",
    "                'BIA-BIA_FFMI', 'BIA-BIA_FMI', 'BIA-BIA_Fat', 'BIA-BIA_Frame_num',\n",
    "                'BIA-BIA_ICW', 'BIA-BIA_LDM', 'BIA-BIA_LST', 'BIA-BIA_SMM',\n",
    "                'BIA-BIA_TBW', 'PAQ_A-Season', 'PAQ_A-PAQ_A_Total', 'PAQ_C-Season',\n",
    "                'PAQ_C-PAQ_C_Total', 'SDS-Season', 'SDS-SDS_Total_Raw',\n",
    "                'SDS-SDS_Total_T', 'PreInt_EduHx-Season',\n",
    "                'PreInt_EduHx-computerinternet_hoursday', 'sii']\n",
    "#Bỏ đi 22 cột PCIAT\n",
    "\n",
    "featuresCols += time_series_cols\n",
    "\n",
    "train = train[featuresCols]"
   ]
  },
  {
   "cell_type": "markdown",
   "id": "d696330b",
   "metadata": {
    "papermill": {
     "duration": 0.017794,
     "end_time": "2024-12-19T06:13:17.105569",
     "exception": false,
     "start_time": "2024-12-19T06:13:17.087775",
     "status": "completed"
    },
    "tags": []
   },
   "source": [
    "Drop the NaN sii value"
   ]
  },
  {
   "cell_type": "code",
   "execution_count": 7,
   "id": "c5662957",
   "metadata": {
    "execution": {
     "iopub.execute_input": "2024-12-19T06:13:17.141625Z",
     "iopub.status.busy": "2024-12-19T06:13:17.141301Z",
     "iopub.status.idle": "2024-12-19T06:13:17.149207Z",
     "shell.execute_reply": "2024-12-19T06:13:17.148481Z"
    },
    "papermill": {
     "duration": 0.027702,
     "end_time": "2024-12-19T06:13:17.150985",
     "exception": false,
     "start_time": "2024-12-19T06:13:17.123283",
     "status": "completed"
    },
    "tags": []
   },
   "outputs": [],
   "source": [
    "\n",
    "train = train.dropna(subset='sii')\n"
   ]
  },
  {
   "cell_type": "markdown",
   "id": "edde20dc",
   "metadata": {
    "papermill": {
     "duration": 0.017447,
     "end_time": "2024-12-19T06:13:17.191150",
     "exception": false,
     "start_time": "2024-12-19T06:13:17.173703",
     "status": "completed"
    },
    "tags": []
   },
   "source": [
    "Fill the missing categorical data with \"Missing\" "
   ]
  },
  {
   "cell_type": "code",
   "execution_count": 8,
   "id": "0d5a8f8e",
   "metadata": {
    "execution": {
     "iopub.execute_input": "2024-12-19T06:13:17.226962Z",
     "iopub.status.busy": "2024-12-19T06:13:17.226592Z",
     "iopub.status.idle": "2024-12-19T06:13:17.252010Z",
     "shell.execute_reply": "2024-12-19T06:13:17.251341Z"
    },
    "papermill": {
     "duration": 0.045125,
     "end_time": "2024-12-19T06:13:17.253579",
     "exception": false,
     "start_time": "2024-12-19T06:13:17.208454",
     "status": "completed"
    },
    "tags": []
   },
   "outputs": [],
   "source": [
    "cat_c = ['Basic_Demos-Enroll_Season', 'CGAS-Season', 'Physical-Season', 'Fitness_Endurance-Season', \n",
    "          'FGC-Season', 'BIA-Season', 'PAQ_A-Season', 'PAQ_C-Season', 'SDS-Season', 'PreInt_EduHx-Season']\n",
    "\n",
    "def update(df):\n",
    "    for c in cat_c: \n",
    "        df[c] = df[c].fillna('Missing')\n",
    "        df[c] = df[c].astype('category')\n",
    "    return df\n",
    "        \n",
    "train = update(train)\n",
    "test = update(test)"
   ]
  },
  {
   "cell_type": "markdown",
   "id": "71253446",
   "metadata": {
    "papermill": {
     "duration": 0.017111,
     "end_time": "2024-12-19T06:13:17.287973",
     "exception": false,
     "start_time": "2024-12-19T06:13:17.270862",
     "status": "completed"
    },
    "tags": []
   },
   "source": [
    "Create a mapping from string to integer to push data to the model (Use one hot encode instead)"
   ]
  },
  {
   "cell_type": "code",
   "execution_count": 9,
   "id": "3bf2f825",
   "metadata": {
    "execution": {
     "iopub.execute_input": "2024-12-19T06:13:17.323785Z",
     "iopub.status.busy": "2024-12-19T06:13:17.323082Z",
     "iopub.status.idle": "2024-12-19T06:13:17.361611Z",
     "shell.execute_reply": "2024-12-19T06:13:17.360817Z"
    },
    "papermill": {
     "duration": 0.057956,
     "end_time": "2024-12-19T06:13:17.363177",
     "exception": false,
     "start_time": "2024-12-19T06:13:17.305221",
     "status": "completed"
    },
    "tags": []
   },
   "outputs": [
    {
     "name": "stdout",
     "output_type": "stream",
     "text": [
      "Train Shape : (2736, 155) || Test Shape : (20, 154)\n"
     ]
    }
   ],
   "source": [
    "def create_mapping(column, dataset):\n",
    "    unique_values = dataset[column].unique()\n",
    "    return {value: idx for idx, value in enumerate(unique_values)}\n",
    "\n",
    "for col in cat_c:\n",
    "    mapping_train = create_mapping(col, train)\n",
    "    mapping_test = create_mapping(col, test)\n",
    "    \n",
    "    train[col] = train[col].replace(mapping_train).astype(int)\n",
    "    test[col] = test[col].replace(mapping_test).astype(int)\n",
    "\n",
    "print(f'Train Shape : {train.shape} || Test Shape : {test.shape}')"
   ]
  },
  {
   "cell_type": "markdown",
   "id": "3defd090",
   "metadata": {
    "papermill": {
     "duration": 0.016793,
     "end_time": "2024-12-19T06:13:17.397584",
     "exception": false,
     "start_time": "2024-12-19T06:13:17.380791",
     "status": "completed"
    },
    "tags": []
   },
   "source": [
    "# Training Function"
   ]
  },
  {
   "cell_type": "markdown",
   "id": "b0462ce1",
   "metadata": {
    "papermill": {
     "duration": 0.01681,
     "end_time": "2024-12-19T06:13:17.431276",
     "exception": false,
     "start_time": "2024-12-19T06:13:17.414466",
     "status": "completed"
    },
    "tags": []
   },
   "source": [
    "**quadratic_weighted_kappa**: calculate QWK value"
   ]
  },
  {
   "cell_type": "code",
   "execution_count": 10,
   "id": "ea8eacb8",
   "metadata": {
    "execution": {
     "iopub.execute_input": "2024-12-19T06:13:17.466243Z",
     "iopub.status.busy": "2024-12-19T06:13:17.465986Z",
     "iopub.status.idle": "2024-12-19T06:13:17.469604Z",
     "shell.execute_reply": "2024-12-19T06:13:17.468979Z"
    },
    "papermill": {
     "duration": 0.022965,
     "end_time": "2024-12-19T06:13:17.471161",
     "exception": false,
     "start_time": "2024-12-19T06:13:17.448196",
     "status": "completed"
    },
    "tags": []
   },
   "outputs": [],
   "source": [
    "def quadratic_weighted_kappa(y_true, y_pred):\n",
    "    return cohen_kappa_score(y_true, y_pred, weights='quadratic')\n"
   ]
  },
  {
   "cell_type": "markdown",
   "id": "5e4c749f",
   "metadata": {
    "papermill": {
     "duration": 0.016658,
     "end_time": "2024-12-19T06:13:17.505408",
     "exception": false,
     "start_time": "2024-12-19T06:13:17.488750",
     "status": "completed"
    },
    "tags": []
   },
   "source": [
    "**threshold_Rounder**: Turn the sii from PCIAT_Total to categorical "
   ]
  },
  {
   "cell_type": "code",
   "execution_count": 11,
   "id": "d35a4b27",
   "metadata": {
    "execution": {
     "iopub.execute_input": "2024-12-19T06:13:17.539986Z",
     "iopub.status.busy": "2024-12-19T06:13:17.539726Z",
     "iopub.status.idle": "2024-12-19T06:13:17.543689Z",
     "shell.execute_reply": "2024-12-19T06:13:17.543074Z"
    },
    "papermill": {
     "duration": 0.022948,
     "end_time": "2024-12-19T06:13:17.545136",
     "exception": false,
     "start_time": "2024-12-19T06:13:17.522188",
     "status": "completed"
    },
    "tags": []
   },
   "outputs": [],
   "source": [
    "def threshold_Rounder(oof_non_rounded, thresholds):\n",
    "    return np.where(oof_non_rounded < thresholds[0], 0,\n",
    "                    np.where(oof_non_rounded < thresholds[1], 1,\n",
    "                             np.where(oof_non_rounded < thresholds[2], 2, 3)))"
   ]
  },
  {
   "cell_type": "markdown",
   "id": "b907bf26",
   "metadata": {
    "papermill": {
     "duration": 0.016653,
     "end_time": "2024-12-19T06:13:17.578832",
     "exception": false,
     "start_time": "2024-12-19T06:13:17.562179",
     "status": "completed"
    },
    "tags": []
   },
   "source": [
    "**evaluate_predictions**: this function evaluate the prediction of the model by first turn integer prediction values to categorical values and then calculate QWK from it and the true labels."
   ]
  },
  {
   "cell_type": "code",
   "execution_count": 12,
   "id": "bac7d0e1",
   "metadata": {
    "execution": {
     "iopub.execute_input": "2024-12-19T06:13:17.613588Z",
     "iopub.status.busy": "2024-12-19T06:13:17.613375Z",
     "iopub.status.idle": "2024-12-19T06:13:17.616806Z",
     "shell.execute_reply": "2024-12-19T06:13:17.616114Z"
    },
    "papermill": {
     "duration": 0.022669,
     "end_time": "2024-12-19T06:13:17.618405",
     "exception": false,
     "start_time": "2024-12-19T06:13:17.595736",
     "status": "completed"
    },
    "tags": []
   },
   "outputs": [],
   "source": [
    "def evaluate_predictions(thresholds, y_true, oof_non_rounded):\n",
    "    rounded_p = threshold_Rounder(oof_non_rounded, thresholds)\n",
    "    return -quadratic_weighted_kappa(y_true, rounded_p)\n"
   ]
  },
  {
   "cell_type": "markdown",
   "id": "aa169b30",
   "metadata": {
    "papermill": {
     "duration": 0.016934,
     "end_time": "2024-12-19T06:13:17.652191",
     "exception": false,
     "start_time": "2024-12-19T06:13:17.635257",
     "status": "completed"
    },
    "tags": []
   },
   "source": [
    "**TrainML**: Train the model using K-Fold, The model is regression model, predict a real value represent how bad the patient was. The value may not explicitly different, so we re-define the threshold to make it split more accurate"
   ]
  },
  {
   "cell_type": "code",
   "execution_count": 13,
   "id": "4095e144",
   "metadata": {
    "execution": {
     "iopub.execute_input": "2024-12-19T06:13:17.687421Z",
     "iopub.status.busy": "2024-12-19T06:13:17.687148Z",
     "iopub.status.idle": "2024-12-19T06:13:17.696535Z",
     "shell.execute_reply": "2024-12-19T06:13:17.695763Z"
    },
    "papermill": {
     "duration": 0.028819,
     "end_time": "2024-12-19T06:13:17.698041",
     "exception": false,
     "start_time": "2024-12-19T06:13:17.669222",
     "status": "completed"
    },
    "tags": []
   },
   "outputs": [],
   "source": [
    "def TrainML(model_class, test_data):\n",
    "    \n",
    "    X = train.drop(['sii'], axis=1)\n",
    "    y = train['sii']\n",
    "\n",
    "    # Apply K-Fold\n",
    "    SKF = StratifiedKFold(n_splits=n_splits, shuffle=True, random_state=SEED)\n",
    "    \n",
    "    train_S = []\n",
    "    test_S = []\n",
    "    \n",
    "    oof_non_rounded = np.zeros(len(y), dtype=float) \n",
    "    oof_rounded = np.zeros(len(y), dtype=int) \n",
    "    test_preds = np.zeros((len(test_data), n_splits))\n",
    "\n",
    "    for fold, (train_idx, test_idx) in enumerate(tqdm(SKF.split(X, y), desc=\"Training Folds\", total=n_splits)):\n",
    "        # Train model\n",
    "        X_train, X_val = X.iloc[train_idx], X.iloc[test_idx]\n",
    "        y_train, y_val = y.iloc[train_idx], y.iloc[test_idx]\n",
    "\n",
    "        model = clone(model_class)\n",
    "        model.fit(X_train, y_train)\n",
    "\n",
    "        y_train_pred = model.predict(X_train)\n",
    "        y_val_pred = model.predict(X_val)\n",
    "\n",
    "        # Round to integer values\n",
    "        oof_non_rounded[test_idx] = y_val_pred\n",
    "        y_val_pred_rounded = y_val_pred.round(0).astype(int)\n",
    "        oof_rounded[test_idx] = y_val_pred_rounded\n",
    "\n",
    "        train_kappa = quadratic_weighted_kappa(y_train, y_train_pred.round(0).astype(int))\n",
    "        val_kappa = quadratic_weighted_kappa(y_val, y_val_pred_rounded)\n",
    "\n",
    "        train_S.append(train_kappa)\n",
    "        test_S.append(val_kappa)\n",
    "\n",
    "        #Predict with test dataset\n",
    "        test_preds[:, fold] = model.predict(test_data)\n",
    "        \n",
    "        print(f\"Fold {fold+1} - Train QWK: {train_kappa:.4f}, Validation QWK: {val_kappa:.4f}\")\n",
    "        clear_output(wait=True)\n",
    "\n",
    "    print(f\"Mean Train QWK --> {np.mean(train_S):.4f}\")\n",
    "    print(f\"Mean Validation QWK ---> {np.mean(test_S):.4f}\")\n",
    "\n",
    "    # Using optimizer to find the best threshold\n",
    "    KappaOPtimizer = minimize(evaluate_predictions,\n",
    "                              x0=[0.5, 1.5, 2.5], args=(y, oof_non_rounded), \n",
    "                              method='Nelder-Mead') # Nelder-Mead | # Powell\n",
    "    assert KappaOPtimizer.success, \"Optimization did not converge.\"\n",
    "\n",
    "    # Use the threshold retrive from the optimizer to predict again to evaluate\n",
    "    oof_tuned = threshold_Rounder(oof_non_rounded, KappaOPtimizer.x)\n",
    "    tKappa = quadratic_weighted_kappa(y, oof_tuned)\n",
    "\n",
    "    print(f\"----> || Optimized QWK SCORE :: {Fore.CYAN}{Style.BRIGHT} {tKappa:.3f}{Style.RESET_ALL}\")\n",
    "    print(\"\\nOverall Classification Report:\")\n",
    "    print(classification_report(y, oof_tuned))\n",
    "    \n",
    "    print(\"\\nOverall Confusion Matrix:\")\n",
    "    print(confusion_matrix(y, oof_tuned))\n",
    "\n",
    "    # Use the threshold retrive from the optimizer to predict test\n",
    "    tpm = test_preds.mean(axis=1)\n",
    "    tpTuned = threshold_Rounder(tpm, KappaOPtimizer.x)\n",
    "\n",
    "    # Create submition\n",
    "    submission = pd.DataFrame({\n",
    "        'id': sample['id'],\n",
    "        'sii': tpTuned\n",
    "    })\n",
    "\n",
    "    return submission,model"
   ]
  },
  {
   "cell_type": "markdown",
   "id": "a87ef637",
   "metadata": {
    "papermill": {
     "duration": 0.016784,
     "end_time": "2024-12-19T06:13:17.731838",
     "exception": false,
     "start_time": "2024-12-19T06:13:17.715054",
     "status": "completed"
    },
    "tags": []
   },
   "source": [
    "# Create model and train the model"
   ]
  },
  {
   "cell_type": "code",
   "execution_count": 14,
   "id": "1f641581",
   "metadata": {
    "execution": {
     "iopub.execute_input": "2024-12-19T06:13:17.767285Z",
     "iopub.status.busy": "2024-12-19T06:13:17.766840Z",
     "iopub.status.idle": "2024-12-19T06:13:30.498566Z",
     "shell.execute_reply": "2024-12-19T06:13:30.497423Z"
    },
    "papermill": {
     "duration": 12.751478,
     "end_time": "2024-12-19T06:13:30.500429",
     "exception": false,
     "start_time": "2024-12-19T06:13:17.748951",
     "status": "completed"
    },
    "tags": []
   },
   "outputs": [
    {
     "name": "stderr",
     "output_type": "stream",
     "text": [
      "Training Folds: 100%|██████████| 5/5 [00:12<00:00,  2.50s/it]"
     ]
    },
    {
     "name": "stdout",
     "output_type": "stream",
     "text": [
      "Mean Train QWK --> 0.7309\n",
      "Mean Validation QWK ---> 0.4031\n"
     ]
    },
    {
     "name": "stderr",
     "output_type": "stream",
     "text": [
      "\n"
     ]
    },
    {
     "name": "stdout",
     "output_type": "stream",
     "text": [
      "----> || Optimized QWK SCORE :: \u001b[36m\u001b[1m 0.462\u001b[0m\n",
      "\n",
      "Overall Classification Report:\n",
      "              precision    recall  f1-score   support\n",
      "\n",
      "         0.0       0.76      0.74      0.75      1594\n",
      "         1.0       0.35      0.33      0.34       730\n",
      "         2.0       0.34      0.45      0.39       378\n",
      "         3.0       0.00      0.00      0.00        34\n",
      "\n",
      "    accuracy                           0.58      2736\n",
      "   macro avg       0.36      0.38      0.37      2736\n",
      "weighted avg       0.58      0.58      0.58      2736\n",
      "\n",
      "\n",
      "Overall Confusion Matrix:\n",
      "[[1173  311  110    0]\n",
      " [ 295  242  193    0]\n",
      " [  84  124  170    0]\n",
      " [   1    7   26    0]]\n"
     ]
    }
   ],
   "source": [
    "Params = {\n",
    "    'learning_rate': 0.046,\n",
    "    'max_depth': 12,\n",
    "    'num_leaves': 478,\n",
    "    'min_data_in_leaf': 13,\n",
    "    'feature_fraction': 0.893,\n",
    "    'bagging_fraction': 0.784,\n",
    "    'bagging_freq': 4,\n",
    "    'lambda_l1': 10,  # Increased from 6.59\n",
    "    'lambda_l2': 0.01,  # Increased from 2.68e-06\n",
    "    'device': 'gpu'\n",
    "\n",
    "}\n",
    "Light = lgb.LGBMRegressor(**Params, verbose=-1, n_estimators=200, random_state=SEED)\n",
    "Submission,model = TrainML(Light,test)\n"
   ]
  },
  {
   "cell_type": "markdown",
   "id": "a85333be",
   "metadata": {
    "papermill": {
     "duration": 0.017865,
     "end_time": "2024-12-19T06:13:30.536757",
     "exception": false,
     "start_time": "2024-12-19T06:13:30.518892",
     "status": "completed"
    },
    "tags": []
   },
   "source": [
    "# Submit model"
   ]
  },
  {
   "cell_type": "code",
   "execution_count": 15,
   "id": "54e268ec",
   "metadata": {
    "execution": {
     "iopub.execute_input": "2024-12-19T06:13:30.574256Z",
     "iopub.status.busy": "2024-12-19T06:13:30.573455Z",
     "iopub.status.idle": "2024-12-19T06:13:30.583405Z",
     "shell.execute_reply": "2024-12-19T06:13:30.582372Z"
    },
    "papermill": {
     "duration": 0.030588,
     "end_time": "2024-12-19T06:13:30.585097",
     "exception": false,
     "start_time": "2024-12-19T06:13:30.554509",
     "status": "completed"
    },
    "tags": []
   },
   "outputs": [
    {
     "name": "stdout",
     "output_type": "stream",
     "text": [
      "sii\n",
      "0    10\n",
      "1     9\n",
      "2     1\n",
      "Name: count, dtype: int64\n"
     ]
    }
   ],
   "source": [
    "Submission.to_csv('submission.csv', index=False)\n",
    "print(Submission['sii'].value_counts())"
   ]
  },
  {
   "cell_type": "code",
   "execution_count": null,
   "id": "18af6ee2",
   "metadata": {
    "papermill": {
     "duration": 0.01753,
     "end_time": "2024-12-19T06:13:30.626853",
     "exception": false,
     "start_time": "2024-12-19T06:13:30.609323",
     "status": "completed"
    },
    "tags": []
   },
   "outputs": [],
   "source": []
  }
 ],
 "metadata": {
  "kaggle": {
   "accelerator": "nvidiaTeslaT4",
   "dataSources": [
    {
     "databundleVersionId": 9643020,
     "sourceId": 81933,
     "sourceType": "competition"
    },
    {
     "datasetId": 921302,
     "sourceId": 7453542,
     "sourceType": "datasetVersion"
    }
   ],
   "dockerImageVersionId": 30805,
   "isGpuEnabled": true,
   "isInternetEnabled": false,
   "language": "python",
   "sourceType": "notebook"
  },
  "kernelspec": {
   "display_name": "Python 3",
   "language": "python",
   "name": "python3"
  },
  "language_info": {
   "codemirror_mode": {
    "name": "ipython",
    "version": 3
   },
   "file_extension": ".py",
   "mimetype": "text/x-python",
   "name": "python",
   "nbconvert_exporter": "python",
   "pygments_lexer": "ipython3",
   "version": "3.10.14"
  },
  "papermill": {
   "default_parameters": {},
   "duration": 100.742602,
   "end_time": "2024-12-19T06:13:33.129561",
   "environment_variables": {},
   "exception": null,
   "input_path": "__notebook__.ipynb",
   "output_path": "__notebook__.ipynb",
   "parameters": {},
   "start_time": "2024-12-19T06:11:52.386959",
   "version": "2.6.0"
  }
 },
 "nbformat": 4,
 "nbformat_minor": 5
}
