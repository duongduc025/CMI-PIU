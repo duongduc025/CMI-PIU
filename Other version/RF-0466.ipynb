{
 "cells": [
  {
   "cell_type": "code",
   "execution_count": 1,
   "id": "8aa2d1e2",
   "metadata": {
    "_cell_guid": "b1076dfc-b9ad-4769-8c92-a6c4dae69d19",
    "_uuid": "8f2839f25d086af736a60e9eeb907d3b93b6e0e5",
    "execution": {
     "iopub.execute_input": "2024-12-24T05:08:05.953218Z",
     "iopub.status.busy": "2024-12-24T05:08:05.952974Z",
     "iopub.status.idle": "2024-12-24T05:08:14.724573Z",
     "shell.execute_reply": "2024-12-24T05:08:14.723654Z"
    },
    "papermill": {
     "duration": 8.779652,
     "end_time": "2024-12-24T05:08:14.726660",
     "exception": false,
     "start_time": "2024-12-24T05:08:05.947008",
     "status": "completed"
    },
    "tags": []
   },
   "outputs": [],
   "source": [
    "import os\n",
    "import re\n",
    "import math\n",
    "import random\n",
    "import warnings\n",
    "from copy import deepcopy\n",
    "from concurrent.futures import ThreadPoolExecutor\n",
    "\n",
    "import numpy as np\n",
    "import pandas as pd\n",
    "import polars as pl\n",
    "import matplotlib.pyplot as plt\n",
    "import seaborn as sns\n",
    "import seaborn as sb\n",
    "from colorama import Fore, Style\n",
    "from tqdm import tqdm\n",
    "from IPython.display import clear_output\n",
    "\n",
    "from scipy.optimize import minimize\n",
    "from bayes_opt import BayesianOptimization\n",
    "from skopt import BayesSearchCV\n",
    "\n",
    "import torch\n",
    "import torch.nn as nn\n",
    "import torch.optim as optim\n",
    "from torch.utils.data import DataLoader, TensorDataset\n",
    "\n",
    "import optuna\n",
    "\n",
    "from sklearn.base import clone\n",
    "from sklearn.pipeline import Pipeline\n",
    "from sklearn.decomposition import PCA\n",
    "from sklearn.preprocessing import StandardScaler\n",
    "from sklearn.impute import SimpleImputer, KNNImputer\n",
    "from sklearn.model_selection import (\n",
    "    train_test_split,\n",
    "    StratifiedKFold,\n",
    "    GridSearchCV,\n",
    "    cross_val_score\n",
    ")\n",
    "from sklearn.ensemble import (\n",
    "    RandomForestClassifier,\n",
    "    RandomForestRegressor,\n",
    "    GradientBoostingRegressor,\n",
    "    VotingClassifier,\n",
    "    VotingRegressor\n",
    ")\n",
    "from sklearn.metrics import (\n",
    "    accuracy_score,\n",
    "    cohen_kappa_score,\n",
    "    make_scorer,\n",
    "    classification_report,\n",
    "    confusion_matrix\n",
    ")\n",
    "\n",
    "from lightgbm import LGBMClassifier, LGBMRegressor\n",
    "import lightgbm as lgb\n",
    "from xgboost import XGBClassifier, XGBRegressor\n",
    "from catboost import CatBoostClassifier, CatBoostRegressor\n",
    "\n",
    "warnings.filterwarnings('ignore')\n",
    "\n",
    "\n",
    "n_splits = 5\n",
    "SEED = 42"
   ]
  },
  {
   "cell_type": "markdown",
   "id": "4b820876",
   "metadata": {
    "papermill": {
     "duration": 0.005955,
     "end_time": "2024-12-24T05:08:14.737425",
     "exception": false,
     "start_time": "2024-12-24T05:08:14.731470",
     "status": "completed"
    },
    "tags": []
   },
   "source": [
    "# Data Loading"
   ]
  },
  {
   "cell_type": "markdown",
   "id": "35ee513f",
   "metadata": {
    "papermill": {
     "duration": 0.004914,
     "end_time": "2024-12-24T05:08:14.747533",
     "exception": false,
     "start_time": "2024-12-24T05:08:14.742619",
     "status": "completed"
    },
    "tags": []
   },
   "source": [
    "## Load tabular dataset"
   ]
  },
  {
   "cell_type": "code",
   "execution_count": 2,
   "id": "493ca4e7",
   "metadata": {
    "execution": {
     "iopub.execute_input": "2024-12-24T05:08:14.759506Z",
     "iopub.status.busy": "2024-12-24T05:08:14.758970Z",
     "iopub.status.idle": "2024-12-24T05:08:14.824770Z",
     "shell.execute_reply": "2024-12-24T05:08:14.824145Z"
    },
    "papermill": {
     "duration": 0.073661,
     "end_time": "2024-12-24T05:08:14.826442",
     "exception": false,
     "start_time": "2024-12-24T05:08:14.752781",
     "status": "completed"
    },
    "tags": []
   },
   "outputs": [],
   "source": [
    "train = pd.read_csv('/kaggle/input/child-mind-institute-problematic-internet-use/train.csv')\n",
    "test = pd.read_csv('/kaggle/input/child-mind-institute-problematic-internet-use/test.csv')\n",
    "sample = pd.read_csv('/kaggle/input/child-mind-institute-problematic-internet-use/sample_submission.csv')"
   ]
  },
  {
   "cell_type": "markdown",
   "id": "63921e35",
   "metadata": {
    "papermill": {
     "duration": 0.004288,
     "end_time": "2024-12-24T05:08:14.835196",
     "exception": false,
     "start_time": "2024-12-24T05:08:14.830908",
     "status": "completed"
    },
    "tags": []
   },
   "source": [
    "## Load timeseries data"
   ]
  },
  {
   "cell_type": "code",
   "execution_count": 3,
   "id": "31a53ae8",
   "metadata": {
    "execution": {
     "iopub.execute_input": "2024-12-24T05:08:14.845367Z",
     "iopub.status.busy": "2024-12-24T05:08:14.845104Z",
     "iopub.status.idle": "2024-12-24T05:08:14.850580Z",
     "shell.execute_reply": "2024-12-24T05:08:14.849971Z"
    },
    "papermill": {
     "duration": 0.012331,
     "end_time": "2024-12-24T05:08:14.852140",
     "exception": false,
     "start_time": "2024-12-24T05:08:14.839809",
     "status": "completed"
    },
    "tags": []
   },
   "outputs": [],
   "source": [
    "def process_file(filename, dirname):\n",
    "    df = pd.read_parquet(os.path.join(dirname, filename, 'part-0.parquet'))\n",
    "    df.drop('step', axis=1, inplace=True)\n",
    "    return df.describe().values.reshape(-1), filename.split('=')[1]\n",
    "\n",
    "def load_time_series(dirname) -> pd.DataFrame:\n",
    "    ids = os.listdir(dirname)\n",
    "    \n",
    "    with ThreadPoolExecutor() as executor:\n",
    "        results = list(tqdm(executor.map(lambda fname: process_file(fname, dirname), ids), total=len(ids)))\n",
    "    \n",
    "    stats, indexes = zip(*results)\n",
    "    \n",
    "    df = pd.DataFrame(stats, columns=[f\"Stat_{i}\" for i in range(len(stats[0]))])\n",
    "    df['id'] = indexes\n",
    "    \n",
    "    return df"
   ]
  },
  {
   "cell_type": "code",
   "execution_count": 4,
   "id": "bac0e76d",
   "metadata": {
    "execution": {
     "iopub.execute_input": "2024-12-24T05:08:14.861785Z",
     "iopub.status.busy": "2024-12-24T05:08:14.861534Z",
     "iopub.status.idle": "2024-12-24T05:09:25.506184Z",
     "shell.execute_reply": "2024-12-24T05:09:25.505228Z"
    },
    "papermill": {
     "duration": 70.651355,
     "end_time": "2024-12-24T05:09:25.507843",
     "exception": false,
     "start_time": "2024-12-24T05:08:14.856488",
     "status": "completed"
    },
    "tags": []
   },
   "outputs": [
    {
     "name": "stderr",
     "output_type": "stream",
     "text": [
      "100%|██████████| 996/996 [01:10<00:00, 14.18it/s]\n",
      "100%|██████████| 2/2 [00:00<00:00,  6.54it/s]\n"
     ]
    }
   ],
   "source": [
    "train_ts = load_time_series(\"/kaggle/input/child-mind-institute-problematic-internet-use/series_train.parquet\")\n",
    "test_ts = load_time_series(\"/kaggle/input/child-mind-institute-problematic-internet-use/series_test.parquet\")\n",
    "time_series_cols = train_ts.columns.tolist()\n",
    "time_series_cols.remove(\"id\")"
   ]
  },
  {
   "cell_type": "markdown",
   "id": "097a5f13",
   "metadata": {
    "papermill": {
     "duration": 0.016113,
     "end_time": "2024-12-24T05:09:25.540987",
     "exception": false,
     "start_time": "2024-12-24T05:09:25.524874",
     "status": "completed"
    },
    "tags": []
   },
   "source": [
    "Time series data is then merged to the tabular data"
   ]
  },
  {
   "cell_type": "code",
   "execution_count": 5,
   "id": "0bb7b5a8",
   "metadata": {
    "execution": {
     "iopub.execute_input": "2024-12-24T05:09:25.575066Z",
     "iopub.status.busy": "2024-12-24T05:09:25.574195Z",
     "iopub.status.idle": "2024-12-24T05:09:25.610320Z",
     "shell.execute_reply": "2024-12-24T05:09:25.609591Z"
    },
    "papermill": {
     "duration": 0.054745,
     "end_time": "2024-12-24T05:09:25.611887",
     "exception": false,
     "start_time": "2024-12-24T05:09:25.557142",
     "status": "completed"
    },
    "tags": []
   },
   "outputs": [],
   "source": [
    "train = pd.merge(train, train_ts, how=\"left\", on='id')\n",
    "test = pd.merge(test, test_ts, how=\"left\", on='id')\n",
    "\n",
    "train = train.drop('id', axis=1)\n",
    "test = test.drop('id', axis=1)\n"
   ]
  },
  {
   "cell_type": "markdown",
   "id": "0aa183e9",
   "metadata": {
    "papermill": {
     "duration": 0.016393,
     "end_time": "2024-12-24T05:09:25.644457",
     "exception": false,
     "start_time": "2024-12-24T05:09:25.628064",
     "status": "completed"
    },
    "tags": []
   },
   "source": [
    "# Data Filtering"
   ]
  },
  {
   "cell_type": "markdown",
   "id": "340aa1ac",
   "metadata": {
    "papermill": {
     "duration": 0.01579,
     "end_time": "2024-12-24T05:09:25.676248",
     "exception": false,
     "start_time": "2024-12-24T05:09:25.660458",
     "status": "completed"
    },
    "tags": []
   },
   "source": [
    "Select the columns which is present in test data to train"
   ]
  },
  {
   "cell_type": "code",
   "execution_count": 6,
   "id": "b89cb8a6",
   "metadata": {
    "execution": {
     "iopub.execute_input": "2024-12-24T05:09:25.710290Z",
     "iopub.status.busy": "2024-12-24T05:09:25.709421Z",
     "iopub.status.idle": "2024-12-24T05:09:25.719143Z",
     "shell.execute_reply": "2024-12-24T05:09:25.718406Z"
    },
    "papermill": {
     "duration": 0.028527,
     "end_time": "2024-12-24T05:09:25.720742",
     "exception": false,
     "start_time": "2024-12-24T05:09:25.692215",
     "status": "completed"
    },
    "tags": []
   },
   "outputs": [],
   "source": [
    "featuresCols = ['Basic_Demos-Enroll_Season', 'Basic_Demos-Age', 'Basic_Demos-Sex',\n",
    "                'CGAS-Season', 'CGAS-CGAS_Score', 'Physical-Season', 'Physical-BMI',\n",
    "                'Physical-Height', 'Physical-Weight', 'Physical-Waist_Circumference',\n",
    "                'Physical-Diastolic_BP', 'Physical-HeartRate', 'Physical-Systolic_BP',\n",
    "                'Fitness_Endurance-Season', 'Fitness_Endurance-Max_Stage',\n",
    "                'Fitness_Endurance-Time_Mins', 'Fitness_Endurance-Time_Sec',\n",
    "                'FGC-Season', 'FGC-FGC_CU', 'FGC-FGC_CU_Zone', 'FGC-FGC_GSND',\n",
    "                'FGC-FGC_GSND_Zone', 'FGC-FGC_GSD', 'FGC-FGC_GSD_Zone', 'FGC-FGC_PU',\n",
    "                'FGC-FGC_PU_Zone', 'FGC-FGC_SRL', 'FGC-FGC_SRL_Zone', 'FGC-FGC_SRR',\n",
    "                'FGC-FGC_SRR_Zone', 'FGC-FGC_TL', 'FGC-FGC_TL_Zone', 'BIA-Season',\n",
    "                'BIA-BIA_Activity_Level_num', 'BIA-BIA_BMC', 'BIA-BIA_BMI',\n",
    "                'BIA-BIA_BMR', 'BIA-BIA_DEE', 'BIA-BIA_ECW', 'BIA-BIA_FFM',\n",
    "                'BIA-BIA_FFMI', 'BIA-BIA_FMI', 'BIA-BIA_Fat', 'BIA-BIA_Frame_num',\n",
    "                'BIA-BIA_ICW', 'BIA-BIA_LDM', 'BIA-BIA_LST', 'BIA-BIA_SMM',\n",
    "                'BIA-BIA_TBW', 'PAQ_A-Season', 'PAQ_A-PAQ_A_Total', 'PAQ_C-Season',\n",
    "                'PAQ_C-PAQ_C_Total', 'SDS-Season', 'SDS-SDS_Total_Raw',\n",
    "                'SDS-SDS_Total_T', 'PreInt_EduHx-Season',\n",
    "                'PreInt_EduHx-computerinternet_hoursday', 'sii']\n",
    "#Bỏ đi 22 cột PCIAT\n",
    "\n",
    "featuresCols += time_series_cols\n",
    "\n",
    "train = train[featuresCols]"
   ]
  },
  {
   "cell_type": "markdown",
   "id": "bfe3218b",
   "metadata": {
    "papermill": {
     "duration": 0.016747,
     "end_time": "2024-12-24T05:09:25.754523",
     "exception": false,
     "start_time": "2024-12-24T05:09:25.737776",
     "status": "completed"
    },
    "tags": []
   },
   "source": [
    "Drop the NaN sii value"
   ]
  },
  {
   "cell_type": "code",
   "execution_count": 7,
   "id": "49df0423",
   "metadata": {
    "execution": {
     "iopub.execute_input": "2024-12-24T05:09:25.788840Z",
     "iopub.status.busy": "2024-12-24T05:09:25.788592Z",
     "iopub.status.idle": "2024-12-24T05:09:25.795777Z",
     "shell.execute_reply": "2024-12-24T05:09:25.795016Z"
    },
    "papermill": {
     "duration": 0.026056,
     "end_time": "2024-12-24T05:09:25.797553",
     "exception": false,
     "start_time": "2024-12-24T05:09:25.771497",
     "status": "completed"
    },
    "tags": []
   },
   "outputs": [],
   "source": [
    "\n",
    "train = train.dropna(subset='sii')\n"
   ]
  },
  {
   "cell_type": "markdown",
   "id": "a160e6ca",
   "metadata": {
    "papermill": {
     "duration": 0.015644,
     "end_time": "2024-12-24T05:09:25.830287",
     "exception": false,
     "start_time": "2024-12-24T05:09:25.814643",
     "status": "completed"
    },
    "tags": []
   },
   "source": [
    "Fill the missing categorical data with \"Missing\" "
   ]
  },
  {
   "cell_type": "code",
   "execution_count": 8,
   "id": "3f015896",
   "metadata": {
    "execution": {
     "iopub.execute_input": "2024-12-24T05:09:25.864013Z",
     "iopub.status.busy": "2024-12-24T05:09:25.863754Z",
     "iopub.status.idle": "2024-12-24T05:09:25.890492Z",
     "shell.execute_reply": "2024-12-24T05:09:25.889626Z"
    },
    "papermill": {
     "duration": 0.046604,
     "end_time": "2024-12-24T05:09:25.892720",
     "exception": false,
     "start_time": "2024-12-24T05:09:25.846116",
     "status": "completed"
    },
    "tags": []
   },
   "outputs": [],
   "source": [
    "cat_c = ['Basic_Demos-Enroll_Season', 'CGAS-Season', 'Physical-Season', 'Fitness_Endurance-Season', \n",
    "          'FGC-Season', 'BIA-Season', 'PAQ_A-Season', 'PAQ_C-Season', 'SDS-Season', 'PreInt_EduHx-Season']\n",
    "\n",
    "def update(df):\n",
    "    for c in cat_c: \n",
    "        df[c] = df[c].fillna('Missing')\n",
    "        df[c] = df[c].astype('category')\n",
    "    return df\n",
    "        \n",
    "train = update(train)\n",
    "test = update(test)"
   ]
  },
  {
   "cell_type": "markdown",
   "id": "f72ef674",
   "metadata": {
    "papermill": {
     "duration": 0.015647,
     "end_time": "2024-12-24T05:09:25.930972",
     "exception": false,
     "start_time": "2024-12-24T05:09:25.915325",
     "status": "completed"
    },
    "tags": []
   },
   "source": [
    "Create a mapping from string to integer to push data to the model (Use one hot encode instead)"
   ]
  },
  {
   "cell_type": "code",
   "execution_count": 9,
   "id": "78127716",
   "metadata": {
    "execution": {
     "iopub.execute_input": "2024-12-24T05:09:25.964542Z",
     "iopub.status.busy": "2024-12-24T05:09:25.963968Z",
     "iopub.status.idle": "2024-12-24T05:09:26.005531Z",
     "shell.execute_reply": "2024-12-24T05:09:26.004211Z"
    },
    "papermill": {
     "duration": 0.060472,
     "end_time": "2024-12-24T05:09:26.007582",
     "exception": false,
     "start_time": "2024-12-24T05:09:25.947110",
     "status": "completed"
    },
    "tags": []
   },
   "outputs": [
    {
     "name": "stdout",
     "output_type": "stream",
     "text": [
      "Train Shape : (2736, 155) || Test Shape : (20, 154)\n"
     ]
    }
   ],
   "source": [
    "def create_mapping(column, dataset):\n",
    "    unique_values = dataset[column].unique()\n",
    "    return {value: idx for idx, value in enumerate(unique_values)}\n",
    "\n",
    "for col in cat_c:\n",
    "    mapping_train = create_mapping(col, train)\n",
    "    mapping_test = create_mapping(col, test)\n",
    "    \n",
    "    train[col] = train[col].replace(mapping_train).astype(int)\n",
    "    test[col] = test[col].replace(mapping_test).astype(int)\n",
    "\n",
    "print(f'Train Shape : {train.shape} || Test Shape : {test.shape}')"
   ]
  },
  {
   "cell_type": "markdown",
   "id": "4316669c",
   "metadata": {
    "papermill": {
     "duration": 0.01621,
     "end_time": "2024-12-24T05:09:26.046393",
     "exception": false,
     "start_time": "2024-12-24T05:09:26.030183",
     "status": "completed"
    },
    "tags": []
   },
   "source": [
    "# Training Function"
   ]
  },
  {
   "cell_type": "markdown",
   "id": "4a948030",
   "metadata": {
    "papermill": {
     "duration": 0.015865,
     "end_time": "2024-12-24T05:09:26.078887",
     "exception": false,
     "start_time": "2024-12-24T05:09:26.063022",
     "status": "completed"
    },
    "tags": []
   },
   "source": [
    "**quadratic_weighted_kappa**: calculate QWK value"
   ]
  },
  {
   "cell_type": "code",
   "execution_count": 10,
   "id": "cca21282",
   "metadata": {
    "execution": {
     "iopub.execute_input": "2024-12-24T05:09:26.112706Z",
     "iopub.status.busy": "2024-12-24T05:09:26.112024Z",
     "iopub.status.idle": "2024-12-24T05:09:26.116373Z",
     "shell.execute_reply": "2024-12-24T05:09:26.115658Z"
    },
    "papermill": {
     "duration": 0.023038,
     "end_time": "2024-12-24T05:09:26.117971",
     "exception": false,
     "start_time": "2024-12-24T05:09:26.094933",
     "status": "completed"
    },
    "tags": []
   },
   "outputs": [],
   "source": [
    "def quadratic_weighted_kappa(y_true, y_pred):\n",
    "    return cohen_kappa_score(y_true, y_pred, weights='quadratic')\n"
   ]
  },
  {
   "cell_type": "markdown",
   "id": "ab157312",
   "metadata": {
    "papermill": {
     "duration": 0.016598,
     "end_time": "2024-12-24T05:09:26.151026",
     "exception": false,
     "start_time": "2024-12-24T05:09:26.134428",
     "status": "completed"
    },
    "tags": []
   },
   "source": [
    "**threshold_Rounder**: Turn the sii from PCIAT_Total to categorical "
   ]
  },
  {
   "cell_type": "code",
   "execution_count": 11,
   "id": "15300333",
   "metadata": {
    "execution": {
     "iopub.execute_input": "2024-12-24T05:09:26.184200Z",
     "iopub.status.busy": "2024-12-24T05:09:26.183955Z",
     "iopub.status.idle": "2024-12-24T05:09:26.188060Z",
     "shell.execute_reply": "2024-12-24T05:09:26.187279Z"
    },
    "papermill": {
     "duration": 0.023075,
     "end_time": "2024-12-24T05:09:26.190089",
     "exception": false,
     "start_time": "2024-12-24T05:09:26.167014",
     "status": "completed"
    },
    "tags": []
   },
   "outputs": [],
   "source": [
    "def threshold_Rounder(oof_non_rounded, thresholds):\n",
    "    return np.where(oof_non_rounded < thresholds[0], 0,\n",
    "                    np.where(oof_non_rounded < thresholds[1], 1,\n",
    "                             np.where(oof_non_rounded < thresholds[2], 2, 3)))"
   ]
  },
  {
   "cell_type": "markdown",
   "id": "fea5d5f8",
   "metadata": {
    "papermill": {
     "duration": 0.01845,
     "end_time": "2024-12-24T05:09:26.230363",
     "exception": false,
     "start_time": "2024-12-24T05:09:26.211913",
     "status": "completed"
    },
    "tags": []
   },
   "source": [
    "**evaluate_predictions**: this function evaluate the prediction of the model by first turn integer prediction values to categorical values and then calculate QWK from it and the true labels."
   ]
  },
  {
   "cell_type": "code",
   "execution_count": 12,
   "id": "5b93c8f9",
   "metadata": {
    "execution": {
     "iopub.execute_input": "2024-12-24T05:09:26.264449Z",
     "iopub.status.busy": "2024-12-24T05:09:26.264183Z",
     "iopub.status.idle": "2024-12-24T05:09:26.267840Z",
     "shell.execute_reply": "2024-12-24T05:09:26.267100Z"
    },
    "papermill": {
     "duration": 0.022804,
     "end_time": "2024-12-24T05:09:26.269627",
     "exception": false,
     "start_time": "2024-12-24T05:09:26.246823",
     "status": "completed"
    },
    "tags": []
   },
   "outputs": [],
   "source": [
    "def evaluate_predictions(thresholds, y_true, oof_non_rounded):\n",
    "    rounded_p = threshold_Rounder(oof_non_rounded, thresholds)\n",
    "    return -quadratic_weighted_kappa(y_true, rounded_p)\n"
   ]
  },
  {
   "cell_type": "markdown",
   "id": "8d1bf633",
   "metadata": {
    "papermill": {
     "duration": 0.016843,
     "end_time": "2024-12-24T05:09:26.304203",
     "exception": false,
     "start_time": "2024-12-24T05:09:26.287360",
     "status": "completed"
    },
    "tags": []
   },
   "source": [
    "**TrainML**: Train the model using K-Fold, The model is regression model, predict a real value represent how bad the patient was. The value may not explicitly different, so we re-define the threshold to make it split more accurate"
   ]
  },
  {
   "cell_type": "code",
   "execution_count": 13,
   "id": "842728ad",
   "metadata": {
    "execution": {
     "iopub.execute_input": "2024-12-24T05:09:26.338708Z",
     "iopub.status.busy": "2024-12-24T05:09:26.338477Z",
     "iopub.status.idle": "2024-12-24T05:09:26.348355Z",
     "shell.execute_reply": "2024-12-24T05:09:26.347681Z"
    },
    "papermill": {
     "duration": 0.02858,
     "end_time": "2024-12-24T05:09:26.349798",
     "exception": false,
     "start_time": "2024-12-24T05:09:26.321218",
     "status": "completed"
    },
    "tags": []
   },
   "outputs": [],
   "source": [
    "def TrainML(model_class, test_data):\n",
    "    \n",
    "    X = train.drop(['sii'], axis=1)\n",
    "    y = train['sii']\n",
    "\n",
    "    # Apply K-Fold\n",
    "    SKF = StratifiedKFold(n_splits=n_splits, shuffle=True, random_state=SEED)\n",
    "    \n",
    "    train_S = []\n",
    "    test_S = []\n",
    "    \n",
    "    oof_non_rounded = np.zeros(len(y), dtype=float) \n",
    "    oof_rounded = np.zeros(len(y), dtype=int) \n",
    "    test_preds = np.zeros((len(test_data), n_splits))\n",
    "\n",
    "    for fold, (train_idx, test_idx) in enumerate(tqdm(SKF.split(X, y), desc=\"Training Folds\", total=n_splits)):\n",
    "        # Train model\n",
    "        X_train, X_val = X.iloc[train_idx], X.iloc[test_idx]\n",
    "        y_train, y_val = y.iloc[train_idx], y.iloc[test_idx]\n",
    "\n",
    "        model = clone(model_class)\n",
    "        model.fit(X_train, y_train)\n",
    "\n",
    "        y_train_pred = model.predict(X_train)\n",
    "        y_val_pred = model.predict(X_val)\n",
    "\n",
    "        # Round to integer values\n",
    "        oof_non_rounded[test_idx] = y_val_pred\n",
    "        y_val_pred_rounded = y_val_pred.round(0).astype(int)\n",
    "        oof_rounded[test_idx] = y_val_pred_rounded\n",
    "\n",
    "        train_kappa = quadratic_weighted_kappa(y_train, y_train_pred.round(0).astype(int))\n",
    "        val_kappa = quadratic_weighted_kappa(y_val, y_val_pred_rounded)\n",
    "\n",
    "        train_S.append(train_kappa)\n",
    "        test_S.append(val_kappa)\n",
    "\n",
    "        #Predict with test dataset\n",
    "        test_preds[:, fold] = model.predict(test_data)\n",
    "        \n",
    "        print(f\"Fold {fold+1} - Train QWK: {train_kappa:.4f}, Validation QWK: {val_kappa:.4f}\")\n",
    "        clear_output(wait=True)\n",
    "\n",
    "    print(f\"Mean Train QWK --> {np.mean(train_S):.4f}\")\n",
    "    print(f\"Mean Validation QWK ---> {np.mean(test_S):.4f}\")\n",
    "\n",
    "    # Using optimizer to find the best threshold\n",
    "    KappaOPtimizer = minimize(evaluate_predictions,\n",
    "                              x0=[0.5, 1.5, 2.5], args=(y, oof_non_rounded), \n",
    "                              method='Nelder-Mead') # Nelder-Mead | # Powell\n",
    "    assert KappaOPtimizer.success, \"Optimization did not converge.\"\n",
    "\n",
    "    # Use the threshold retrive from the optimizer to predict again to evaluate\n",
    "    oof_tuned = threshold_Rounder(oof_non_rounded, KappaOPtimizer.x)\n",
    "    tKappa = quadratic_weighted_kappa(y, oof_tuned)\n",
    "\n",
    "    print(f\"----> || Optimized QWK SCORE :: {Fore.CYAN}{Style.BRIGHT} {tKappa:.3f}{Style.RESET_ALL}\")\n",
    "    print(\"\\nOverall Classification Report:\")\n",
    "    print(classification_report(y, oof_tuned))\n",
    "    \n",
    "    print(\"\\nOverall Confusion Matrix:\")\n",
    "    print(confusion_matrix(y, oof_tuned))\n",
    "\n",
    "    # Use the threshold retrive from the optimizer to predict test\n",
    "    tpm = test_preds.mean(axis=1)\n",
    "    tpTuned = threshold_Rounder(tpm, KappaOPtimizer.x)\n",
    "\n",
    "    # Create submition\n",
    "    submission = pd.DataFrame({\n",
    "        'id': sample['id'],\n",
    "        'sii': tpTuned\n",
    "    })\n",
    "\n",
    "    return submission,model"
   ]
  },
  {
   "cell_type": "markdown",
   "id": "b66525e9",
   "metadata": {
    "papermill": {
     "duration": 0.016153,
     "end_time": "2024-12-24T05:09:26.382531",
     "exception": false,
     "start_time": "2024-12-24T05:09:26.366378",
     "status": "completed"
    },
    "tags": []
   },
   "source": [
    "# Create model and train the model"
   ]
  },
  {
   "cell_type": "code",
   "execution_count": 14,
   "id": "6b8baba6",
   "metadata": {
    "execution": {
     "iopub.execute_input": "2024-12-24T05:09:26.416606Z",
     "iopub.status.busy": "2024-12-24T05:09:26.416038Z",
     "iopub.status.idle": "2024-12-24T05:09:48.539369Z",
     "shell.execute_reply": "2024-12-24T05:09:48.538443Z"
    },
    "papermill": {
     "duration": 22.142042,
     "end_time": "2024-12-24T05:09:48.541078",
     "exception": false,
     "start_time": "2024-12-24T05:09:26.399036",
     "status": "completed"
    },
    "tags": []
   },
   "outputs": [
    {
     "name": "stderr",
     "output_type": "stream",
     "text": [
      "Training Folds: 100%|██████████| 5/5 [00:21<00:00,  4.38s/it]"
     ]
    },
    {
     "name": "stdout",
     "output_type": "stream",
     "text": [
      "Mean Train QWK --> 0.7517\n",
      "Mean Validation QWK ---> 0.3560\n"
     ]
    },
    {
     "name": "stderr",
     "output_type": "stream",
     "text": [
      "\n"
     ]
    },
    {
     "name": "stdout",
     "output_type": "stream",
     "text": [
      "----> || Optimized QWK SCORE :: \u001b[36m\u001b[1m 0.450\u001b[0m\n",
      "\n",
      "Overall Classification Report:\n",
      "              precision    recall  f1-score   support\n",
      "\n",
      "         0.0       0.75      0.75      0.75      1594\n",
      "         1.0       0.37      0.35      0.36       730\n",
      "         2.0       0.33      0.40      0.37       378\n",
      "         3.0       0.00      0.00      0.00        34\n",
      "\n",
      "    accuracy                           0.58      2736\n",
      "   macro avg       0.36      0.37      0.37      2736\n",
      "weighted avg       0.58      0.58      0.58      2736\n",
      "\n",
      "\n",
      "Overall Confusion Matrix:\n",
      "[[1189  300  105    0]\n",
      " [ 304  252  174    0]\n",
      " [  97  128  153    0]\n",
      " [   0    6   28    0]]\n"
     ]
    }
   ],
   "source": [
    "Params = {\n",
    "    'learning_rate': 0.046,\n",
    "    'max_depth': 12,\n",
    "    'num_leaves': 478,\n",
    "    'min_data_in_leaf': 13,\n",
    "    'feature_fraction': 0.893,\n",
    "    'bagging_fraction': 0.784,\n",
    "    'bagging_freq': 4,\n",
    "    'lambda_l1': 10,  \n",
    "    'lambda_l2': 0.01,  \n",
    "    'device': 'gpu'\n",
    "\n",
    "}\n",
    "Light = lgb.LGBMRegressor(**Params, verbose=-1, n_estimators=200, random_state=SEED)\n",
    "\n",
    "RF_Params = {\n",
    "    'n_estimators': 200,\n",
    "    'max_depth': 10,\n",
    "    'min_samples_split': 2,\n",
    "    'min_samples_leaf': 1,\n",
    "    'random_state': SEED,\n",
    "    'n_jobs': -1,  # Dùng tất cả các luồng CPU có sẵn để huấn luyện\n",
    "}\n",
    "\n",
    "RF_Model = RandomForestRegressor(**RF_Params)\n",
    "\n",
    "\n",
    "imputer = SimpleImputer(strategy='median')\n",
    "\n",
    "model_train = VotingRegressor(estimators=[\n",
    "    ('rf', Pipeline(steps=[('imputer', imputer), ('regressor', RF_Model)])),\n",
    "])\n",
    "\n",
    "\n",
    "Submission,model = TrainML(model_train,test)\n"
   ]
  },
  {
   "cell_type": "markdown",
   "id": "e1c13dd5",
   "metadata": {
    "papermill": {
     "duration": 0.016982,
     "end_time": "2024-12-24T05:09:48.576902",
     "exception": false,
     "start_time": "2024-12-24T05:09:48.559920",
     "status": "completed"
    },
    "tags": []
   },
   "source": [
    "# Submit model"
   ]
  },
  {
   "cell_type": "code",
   "execution_count": 15,
   "id": "618be02b",
   "metadata": {
    "execution": {
     "iopub.execute_input": "2024-12-24T05:09:48.612630Z",
     "iopub.status.busy": "2024-12-24T05:09:48.612326Z",
     "iopub.status.idle": "2024-12-24T05:09:48.621224Z",
     "shell.execute_reply": "2024-12-24T05:09:48.620338Z"
    },
    "papermill": {
     "duration": 0.028936,
     "end_time": "2024-12-24T05:09:48.623069",
     "exception": false,
     "start_time": "2024-12-24T05:09:48.594133",
     "status": "completed"
    },
    "tags": []
   },
   "outputs": [
    {
     "name": "stdout",
     "output_type": "stream",
     "text": [
      "sii\n",
      "1    11\n",
      "0     9\n",
      "Name: count, dtype: int64\n"
     ]
    }
   ],
   "source": [
    "Submission.to_csv('submission.csv', index=False)\n",
    "print(Submission['sii'].value_counts())"
   ]
  },
  {
   "cell_type": "code",
   "execution_count": null,
   "id": "39bf191c",
   "metadata": {
    "papermill": {
     "duration": 0.017162,
     "end_time": "2024-12-24T05:09:48.657784",
     "exception": false,
     "start_time": "2024-12-24T05:09:48.640622",
     "status": "completed"
    },
    "tags": []
   },
   "outputs": [],
   "source": []
  }
 ],
 "metadata": {
  "kaggle": {
   "accelerator": "nvidiaTeslaT4",
   "dataSources": [
    {
     "databundleVersionId": 9643020,
     "sourceId": 81933,
     "sourceType": "competition"
    },
    {
     "datasetId": 921302,
     "sourceId": 7453542,
     "sourceType": "datasetVersion"
    }
   ],
   "dockerImageVersionId": 30805,
   "isGpuEnabled": true,
   "isInternetEnabled": false,
   "language": "python",
   "sourceType": "notebook"
  },
  "kernelspec": {
   "display_name": "Python 3",
   "language": "python",
   "name": "python3"
  },
  "language_info": {
   "codemirror_mode": {
    "name": "ipython",
    "version": 3
   },
   "file_extension": ".py",
   "mimetype": "text/x-python",
   "name": "python",
   "nbconvert_exporter": "python",
   "pygments_lexer": "ipython3",
   "version": "3.10.14"
  },
  "papermill": {
   "default_parameters": {},
   "duration": 106.545948,
   "end_time": "2024-12-24T05:09:50.095578",
   "environment_variables": {},
   "exception": null,
   "input_path": "__notebook__.ipynb",
   "output_path": "__notebook__.ipynb",
   "parameters": {},
   "start_time": "2024-12-24T05:08:03.549630",
   "version": "2.6.0"
  }
 },
 "nbformat": 4,
 "nbformat_minor": 5
}
