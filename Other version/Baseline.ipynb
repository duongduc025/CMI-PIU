{
 "cells": [
  {
   "cell_type": "code",
   "execution_count": 1,
   "id": "217e90b0",
   "metadata": {
    "_cell_guid": "b1076dfc-b9ad-4769-8c92-a6c4dae69d19",
    "_uuid": "8f2839f25d086af736a60e9eeb907d3b93b6e0e5",
    "execution": {
     "iopub.execute_input": "2024-12-19T03:15:48.277650Z",
     "iopub.status.busy": "2024-12-19T03:15:48.277214Z",
     "iopub.status.idle": "2024-12-19T03:15:52.921851Z",
     "shell.execute_reply": "2024-12-19T03:15:52.920848Z"
    },
    "papermill": {
     "duration": 4.659013,
     "end_time": "2024-12-19T03:15:52.924486",
     "exception": false,
     "start_time": "2024-12-19T03:15:48.265473",
     "status": "completed"
    },
    "tags": []
   },
   "outputs": [],
   "source": [
    "import pandas as pd\n",
    "import numpy as np\n",
    "import math\n",
    "import matplotlib.pyplot as plt\n",
    "import os\n",
    "from sklearn.model_selection import train_test_split\n",
    "from sklearn.ensemble import RandomForestClassifier\n",
    "from sklearn.metrics import classification_report, confusion_matrix\n",
    "from sklearn.model_selection import GridSearchCV\n",
    "from sklearn.decomposition import PCA\n",
    "from sklearn.preprocessing import StandardScaler\n",
    "from xgboost import XGBClassifier\n",
    "from lightgbm import LGBMClassifier\n",
    "from catboost import CatBoostClassifier\n",
    "from sklearn.ensemble import VotingClassifier\n",
    "import seaborn as sb"
   ]
  },
  {
   "cell_type": "markdown",
   "id": "a99d1737",
   "metadata": {
    "papermill": {
     "duration": 0.009011,
     "end_time": "2024-12-19T03:15:52.944400",
     "exception": false,
     "start_time": "2024-12-19T03:15:52.935389",
     "status": "completed"
    },
    "tags": []
   },
   "source": [
    "# Data observation"
   ]
  },
  {
   "cell_type": "markdown",
   "id": "077831ac",
   "metadata": {
    "papermill": {
     "duration": 0.009155,
     "end_time": "2024-12-19T03:15:52.963026",
     "exception": false,
     "start_time": "2024-12-19T03:15:52.953871",
     "status": "completed"
    },
    "tags": []
   },
   "source": [
    "## CSV Data"
   ]
  },
  {
   "cell_type": "code",
   "execution_count": 2,
   "id": "6bf0618b",
   "metadata": {
    "execution": {
     "iopub.execute_input": "2024-12-19T03:15:52.983424Z",
     "iopub.status.busy": "2024-12-19T03:15:52.982842Z",
     "iopub.status.idle": "2024-12-19T03:15:52.988299Z",
     "shell.execute_reply": "2024-12-19T03:15:52.987205Z"
    },
    "papermill": {
     "duration": 0.018009,
     "end_time": "2024-12-19T03:15:52.990304",
     "exception": false,
     "start_time": "2024-12-19T03:15:52.972295",
     "status": "completed"
    },
    "tags": []
   },
   "outputs": [],
   "source": [
    "pd.set_option('display.max_rows', 10)\n",
    "pd.set_option('display.max_columns', None)"
   ]
  },
  {
   "cell_type": "code",
   "execution_count": 3,
   "id": "8f5ae34e",
   "metadata": {
    "execution": {
     "iopub.execute_input": "2024-12-19T03:15:53.011062Z",
     "iopub.status.busy": "2024-12-19T03:15:53.010307Z",
     "iopub.status.idle": "2024-12-19T03:15:53.090501Z",
     "shell.execute_reply": "2024-12-19T03:15:53.089398Z"
    },
    "papermill": {
     "duration": 0.093177,
     "end_time": "2024-12-19T03:15:53.092750",
     "exception": false,
     "start_time": "2024-12-19T03:15:52.999573",
     "status": "completed"
    },
    "tags": []
   },
   "outputs": [],
   "source": [
    "df_train = pd.read_csv(\"/kaggle/input/child-mind-institute-problematic-internet-use/train.csv\")\n",
    "df_test = pd.read_csv(\"/kaggle/input/child-mind-institute-problematic-internet-use/test.csv\")\n",
    "df_data_dict = pd.read_csv(\"/kaggle/input/child-mind-institute-problematic-internet-use/data_dictionary.csv\")"
   ]
  },
  {
   "cell_type": "code",
   "execution_count": 4,
   "id": "9b2aea2d",
   "metadata": {
    "execution": {
     "iopub.execute_input": "2024-12-19T03:15:53.113336Z",
     "iopub.status.busy": "2024-12-19T03:15:53.112878Z",
     "iopub.status.idle": "2024-12-19T03:15:53.121560Z",
     "shell.execute_reply": "2024-12-19T03:15:53.120329Z"
    },
    "papermill": {
     "duration": 0.021483,
     "end_time": "2024-12-19T03:15:53.123770",
     "exception": false,
     "start_time": "2024-12-19T03:15:53.102287",
     "status": "completed"
    },
    "tags": []
   },
   "outputs": [
    {
     "data": {
      "text/plain": [
       "Index(['id', 'Basic_Demos-Enroll_Season', 'Basic_Demos-Age', 'Basic_Demos-Sex',\n",
       "       'CGAS-Season', 'CGAS-CGAS_Score', 'Physical-Season', 'Physical-BMI',\n",
       "       'Physical-Height', 'Physical-Weight', 'Physical-Waist_Circumference',\n",
       "       'Physical-Diastolic_BP', 'Physical-HeartRate', 'Physical-Systolic_BP',\n",
       "       'Fitness_Endurance-Season', 'Fitness_Endurance-Max_Stage',\n",
       "       'Fitness_Endurance-Time_Mins', 'Fitness_Endurance-Time_Sec',\n",
       "       'FGC-Season', 'FGC-FGC_CU', 'FGC-FGC_CU_Zone', 'FGC-FGC_GSND',\n",
       "       'FGC-FGC_GSND_Zone', 'FGC-FGC_GSD', 'FGC-FGC_GSD_Zone', 'FGC-FGC_PU',\n",
       "       'FGC-FGC_PU_Zone', 'FGC-FGC_SRL', 'FGC-FGC_SRL_Zone', 'FGC-FGC_SRR',\n",
       "       'FGC-FGC_SRR_Zone', 'FGC-FGC_TL', 'FGC-FGC_TL_Zone', 'BIA-Season',\n",
       "       'BIA-BIA_Activity_Level_num', 'BIA-BIA_BMC', 'BIA-BIA_BMI',\n",
       "       'BIA-BIA_BMR', 'BIA-BIA_DEE', 'BIA-BIA_ECW', 'BIA-BIA_FFM',\n",
       "       'BIA-BIA_FFMI', 'BIA-BIA_FMI', 'BIA-BIA_Fat', 'BIA-BIA_Frame_num',\n",
       "       'BIA-BIA_ICW', 'BIA-BIA_LDM', 'BIA-BIA_LST', 'BIA-BIA_SMM',\n",
       "       'BIA-BIA_TBW', 'PAQ_A-Season', 'PAQ_A-PAQ_A_Total', 'PAQ_C-Season',\n",
       "       'PAQ_C-PAQ_C_Total', 'PCIAT-Season', 'PCIAT-PCIAT_01', 'PCIAT-PCIAT_02',\n",
       "       'PCIAT-PCIAT_03', 'PCIAT-PCIAT_04', 'PCIAT-PCIAT_05', 'PCIAT-PCIAT_06',\n",
       "       'PCIAT-PCIAT_07', 'PCIAT-PCIAT_08', 'PCIAT-PCIAT_09', 'PCIAT-PCIAT_10',\n",
       "       'PCIAT-PCIAT_11', 'PCIAT-PCIAT_12', 'PCIAT-PCIAT_13', 'PCIAT-PCIAT_14',\n",
       "       'PCIAT-PCIAT_15', 'PCIAT-PCIAT_16', 'PCIAT-PCIAT_17', 'PCIAT-PCIAT_18',\n",
       "       'PCIAT-PCIAT_19', 'PCIAT-PCIAT_20', 'PCIAT-PCIAT_Total', 'SDS-Season',\n",
       "       'SDS-SDS_Total_Raw', 'SDS-SDS_Total_T', 'PreInt_EduHx-Season',\n",
       "       'PreInt_EduHx-computerinternet_hoursday', 'sii'],\n",
       "      dtype='object')"
      ]
     },
     "execution_count": 4,
     "metadata": {},
     "output_type": "execute_result"
    }
   ],
   "source": [
    "df_train.columns"
   ]
  },
  {
   "cell_type": "code",
   "execution_count": 5,
   "id": "b5a3dfc9",
   "metadata": {
    "execution": {
     "iopub.execute_input": "2024-12-19T03:15:53.145189Z",
     "iopub.status.busy": "2024-12-19T03:15:53.144782Z",
     "iopub.status.idle": "2024-12-19T03:15:53.158284Z",
     "shell.execute_reply": "2024-12-19T03:15:53.157075Z"
    },
    "papermill": {
     "duration": 0.026832,
     "end_time": "2024-12-19T03:15:53.160811",
     "exception": false,
     "start_time": "2024-12-19T03:15:53.133979",
     "status": "completed"
    },
    "tags": []
   },
   "outputs": [
    {
     "name": "stdout",
     "output_type": "stream",
     "text": [
      "Features size (Test): 59\n",
      "Features size (Train): 82\n",
      "--------------------\n",
      "Features                                                                                            Test      Train     \n",
      "id                                                                                                  Yes       Yes       \n",
      "Basic_Demos-Enroll_Season                                                                           Yes       Yes       \n",
      "Basic_Demos-Age                                                                                     Yes       Yes       \n",
      "Basic_Demos-Sex                                                                                     Yes       Yes       \n",
      "CGAS-Season                                                                                         Yes       Yes       \n",
      "CGAS-CGAS_Score                                                                                     Yes       Yes       \n",
      "Physical-Season                                                                                     Yes       Yes       \n",
      "Physical-BMI                                                                                        Yes       Yes       \n",
      "Physical-Height                                                                                     Yes       Yes       \n",
      "Physical-Weight                                                                                     Yes       Yes       \n",
      "Physical-Waist_Circumference                                                                        Yes       Yes       \n",
      "Physical-Diastolic_BP                                                                               Yes       Yes       \n",
      "Physical-HeartRate                                                                                  Yes       Yes       \n",
      "Physical-Systolic_BP                                                                                Yes       Yes       \n",
      "Fitness_Endurance-Season                                                                            Yes       Yes       \n",
      "Fitness_Endurance-Max_Stage                                                                         Yes       Yes       \n",
      "Fitness_Endurance-Time_Mins                                                                         Yes       Yes       \n",
      "Fitness_Endurance-Time_Sec                                                                          Yes       Yes       \n",
      "FGC-Season                                                                                          Yes       Yes       \n",
      "FGC-FGC_CU                                                                                          Yes       Yes       \n",
      "FGC-FGC_CU_Zone                                                                                     Yes       Yes       \n",
      "FGC-FGC_GSND                                                                                        Yes       Yes       \n",
      "FGC-FGC_GSND_Zone                                                                                   Yes       Yes       \n",
      "FGC-FGC_GSD                                                                                         Yes       Yes       \n",
      "FGC-FGC_GSD_Zone                                                                                    Yes       Yes       \n",
      "FGC-FGC_PU                                                                                          Yes       Yes       \n",
      "FGC-FGC_PU_Zone                                                                                     Yes       Yes       \n",
      "FGC-FGC_SRL                                                                                         Yes       Yes       \n",
      "FGC-FGC_SRL_Zone                                                                                    Yes       Yes       \n",
      "FGC-FGC_SRR                                                                                         Yes       Yes       \n",
      "FGC-FGC_SRR_Zone                                                                                    Yes       Yes       \n",
      "FGC-FGC_TL                                                                                          Yes       Yes       \n",
      "FGC-FGC_TL_Zone                                                                                     Yes       Yes       \n",
      "BIA-Season                                                                                          Yes       Yes       \n",
      "BIA-BIA_Activity_Level_num                                                                          Yes       Yes       \n",
      "BIA-BIA_BMC                                                                                         Yes       Yes       \n",
      "BIA-BIA_BMI                                                                                         Yes       Yes       \n",
      "BIA-BIA_BMR                                                                                         Yes       Yes       \n",
      "BIA-BIA_DEE                                                                                         Yes       Yes       \n",
      "BIA-BIA_ECW                                                                                         Yes       Yes       \n",
      "BIA-BIA_FFM                                                                                         Yes       Yes       \n",
      "BIA-BIA_FFMI                                                                                        Yes       Yes       \n",
      "BIA-BIA_FMI                                                                                         Yes       Yes       \n",
      "BIA-BIA_Fat                                                                                         Yes       Yes       \n",
      "BIA-BIA_Frame_num                                                                                   Yes       Yes       \n",
      "BIA-BIA_ICW                                                                                         Yes       Yes       \n",
      "BIA-BIA_LDM                                                                                         Yes       Yes       \n",
      "BIA-BIA_LST                                                                                         Yes       Yes       \n",
      "BIA-BIA_SMM                                                                                         Yes       Yes       \n",
      "BIA-BIA_TBW                                                                                         Yes       Yes       \n",
      "PAQ_A-Season                                                                                        Yes       Yes       \n",
      "PAQ_A-PAQ_A_Total                                                                                   Yes       Yes       \n",
      "PAQ_C-Season                                                                                        Yes       Yes       \n",
      "PAQ_C-PAQ_C_Total                                                                                   Yes       Yes       \n",
      "PCIAT-Season                                                                                        ---       Yes       \n",
      "PCIAT-PCIAT_01                                                                                      ---       Yes       \n",
      "PCIAT-PCIAT_02                                                                                      ---       Yes       \n",
      "PCIAT-PCIAT_03                                                                                      ---       Yes       \n",
      "PCIAT-PCIAT_04                                                                                      ---       Yes       \n",
      "PCIAT-PCIAT_05                                                                                      ---       Yes       \n",
      "PCIAT-PCIAT_06                                                                                      ---       Yes       \n",
      "PCIAT-PCIAT_07                                                                                      ---       Yes       \n",
      "PCIAT-PCIAT_08                                                                                      ---       Yes       \n",
      "PCIAT-PCIAT_09                                                                                      ---       Yes       \n",
      "PCIAT-PCIAT_10                                                                                      ---       Yes       \n",
      "PCIAT-PCIAT_11                                                                                      ---       Yes       \n",
      "PCIAT-PCIAT_12                                                                                      ---       Yes       \n",
      "PCIAT-PCIAT_13                                                                                      ---       Yes       \n",
      "PCIAT-PCIAT_14                                                                                      ---       Yes       \n",
      "PCIAT-PCIAT_15                                                                                      ---       Yes       \n",
      "PCIAT-PCIAT_16                                                                                      ---       Yes       \n",
      "PCIAT-PCIAT_17                                                                                      ---       Yes       \n",
      "PCIAT-PCIAT_18                                                                                      ---       Yes       \n",
      "PCIAT-PCIAT_19                                                                                      ---       Yes       \n",
      "PCIAT-PCIAT_20                                                                                      ---       Yes       \n",
      "PCIAT-PCIAT_Total                                                                                   ---       Yes       \n",
      "SDS-Season                                                                                          Yes       Yes       \n",
      "SDS-SDS_Total_Raw                                                                                   Yes       Yes       \n",
      "SDS-SDS_Total_T                                                                                     Yes       Yes       \n",
      "PreInt_EduHx-Season                                                                                 Yes       Yes       \n",
      "PreInt_EduHx-computerinternet_hoursday                                                              Yes       Yes       \n"
     ]
    }
   ],
   "source": [
    "print(f\"Features size (Test): {len(df_test.columns)}\")\n",
    "print(f\"Features size (Train): {len(df_train.columns)}\")\n",
    "print('-' * 20)\n",
    "print(f\"{'Features':<100}{'Test':<10}{'Train':<10}\")\n",
    "for i in range(len(df_train.columns) - 1):\n",
    "    test_column_status = \"Yes\" if (df_train.columns[i] in df_test.columns) else \"---\"\n",
    "    train_column_status = \"Yes\"\n",
    "    attribute = f\"{df_train.columns[i]}\"\n",
    "    print(f\"{attribute:<100}{test_column_status:<10}{train_column_status:<10}\")"
   ]
  },
  {
   "cell_type": "code",
   "execution_count": 6,
   "id": "7c367b3b",
   "metadata": {
    "execution": {
     "iopub.execute_input": "2024-12-19T03:15:53.182762Z",
     "iopub.status.busy": "2024-12-19T03:15:53.181851Z",
     "iopub.status.idle": "2024-12-19T03:15:53.189884Z",
     "shell.execute_reply": "2024-12-19T03:15:53.188612Z"
    },
    "papermill": {
     "duration": 0.021486,
     "end_time": "2024-12-19T03:15:53.192433",
     "exception": false,
     "start_time": "2024-12-19T03:15:53.170947",
     "status": "completed"
    },
    "tags": []
   },
   "outputs": [
    {
     "name": "stdout",
     "output_type": "stream",
     "text": [
      "Unlabeled Data / Total = 1224 / 3960\n"
     ]
    }
   ],
   "source": [
    "unlabeled = df_train['sii'].isna().sum()\n",
    "print(f\"Unlabeled Data / Total = {unlabeled} / {len(df_train['sii'])}\")"
   ]
  },
  {
   "cell_type": "code",
   "execution_count": 7,
   "id": "4a7f32a8",
   "metadata": {
    "execution": {
     "iopub.execute_input": "2024-12-19T03:15:53.213663Z",
     "iopub.status.busy": "2024-12-19T03:15:53.213290Z",
     "iopub.status.idle": "2024-12-19T03:15:53.229560Z",
     "shell.execute_reply": "2024-12-19T03:15:53.228540Z"
    },
    "papermill": {
     "duration": 0.029383,
     "end_time": "2024-12-19T03:15:53.231761",
     "exception": false,
     "start_time": "2024-12-19T03:15:53.202378",
     "status": "completed"
    },
    "tags": []
   },
   "outputs": [
    {
     "data": {
      "text/plain": [
       "sii\n",
       "0.0    1594\n",
       "1.0     730\n",
       "2.0     378\n",
       "3.0      34\n",
       "Name: count, dtype: int64"
      ]
     },
     "execution_count": 7,
     "metadata": {},
     "output_type": "execute_result"
    }
   ],
   "source": [
    "# label distribution\n",
    "df_train['sii'].value_counts()"
   ]
  },
  {
   "cell_type": "markdown",
   "id": "19530448",
   "metadata": {
    "papermill": {
     "duration": 0.009759,
     "end_time": "2024-12-19T03:15:53.251370",
     "exception": false,
     "start_time": "2024-12-19T03:15:53.241611",
     "status": "completed"
    },
    "tags": []
   },
   "source": [
    "## Parquet Data"
   ]
  },
  {
   "cell_type": "code",
   "execution_count": 8,
   "id": "74933a05",
   "metadata": {
    "execution": {
     "iopub.execute_input": "2024-12-19T03:15:53.272442Z",
     "iopub.status.busy": "2024-12-19T03:15:53.272046Z",
     "iopub.status.idle": "2024-12-19T03:15:53.604654Z",
     "shell.execute_reply": "2024-12-19T03:15:53.603749Z"
    },
    "papermill": {
     "duration": 0.345938,
     "end_time": "2024-12-19T03:15:53.607076",
     "exception": false,
     "start_time": "2024-12-19T03:15:53.261138",
     "status": "completed"
    },
    "tags": []
   },
   "outputs": [],
   "source": [
    "ts_df = pd.read_parquet('/kaggle/input/child-mind-institute-problematic-internet-use/series_train.parquet/id=01085eb3', engine='pyarrow')"
   ]
  },
  {
   "cell_type": "code",
   "execution_count": 9,
   "id": "fa00c544",
   "metadata": {
    "execution": {
     "iopub.execute_input": "2024-12-19T03:15:53.629133Z",
     "iopub.status.busy": "2024-12-19T03:15:53.628299Z",
     "iopub.status.idle": "2024-12-19T03:15:53.656338Z",
     "shell.execute_reply": "2024-12-19T03:15:53.655349Z"
    },
    "papermill": {
     "duration": 0.04182,
     "end_time": "2024-12-19T03:15:53.658799",
     "exception": false,
     "start_time": "2024-12-19T03:15:53.616979",
     "status": "completed"
    },
    "tags": []
   },
   "outputs": [
    {
     "data": {
      "text/html": [
       "<div>\n",
       "<style scoped>\n",
       "    .dataframe tbody tr th:only-of-type {\n",
       "        vertical-align: middle;\n",
       "    }\n",
       "\n",
       "    .dataframe tbody tr th {\n",
       "        vertical-align: top;\n",
       "    }\n",
       "\n",
       "    .dataframe thead th {\n",
       "        text-align: right;\n",
       "    }\n",
       "</style>\n",
       "<table border=\"1\" class=\"dataframe\">\n",
       "  <thead>\n",
       "    <tr style=\"text-align: right;\">\n",
       "      <th></th>\n",
       "      <th>step</th>\n",
       "      <th>X</th>\n",
       "      <th>Y</th>\n",
       "      <th>Z</th>\n",
       "      <th>enmo</th>\n",
       "      <th>anglez</th>\n",
       "      <th>non-wear_flag</th>\n",
       "      <th>light</th>\n",
       "      <th>battery_voltage</th>\n",
       "      <th>time_of_day</th>\n",
       "      <th>weekday</th>\n",
       "      <th>quarter</th>\n",
       "      <th>relative_date_PCIAT</th>\n",
       "    </tr>\n",
       "  </thead>\n",
       "  <tbody>\n",
       "    <tr>\n",
       "      <th>0</th>\n",
       "      <td>0</td>\n",
       "      <td>0.294667</td>\n",
       "      <td>0.307097</td>\n",
       "      <td>-1.022549</td>\n",
       "      <td>0.307828</td>\n",
       "      <td>-60.737103</td>\n",
       "      <td>0.0</td>\n",
       "      <td>28.000000</td>\n",
       "      <td>4184.000000</td>\n",
       "      <td>58680000000000</td>\n",
       "      <td>2</td>\n",
       "      <td>4</td>\n",
       "      <td>39.0</td>\n",
       "    </tr>\n",
       "    <tr>\n",
       "      <th>1</th>\n",
       "      <td>1</td>\n",
       "      <td>-0.121981</td>\n",
       "      <td>0.903011</td>\n",
       "      <td>-0.297953</td>\n",
       "      <td>0.195007</td>\n",
       "      <td>-13.897434</td>\n",
       "      <td>0.0</td>\n",
       "      <td>89.199997</td>\n",
       "      <td>4183.666504</td>\n",
       "      <td>58685000000000</td>\n",
       "      <td>2</td>\n",
       "      <td>4</td>\n",
       "      <td>39.0</td>\n",
       "    </tr>\n",
       "    <tr>\n",
       "      <th>2</th>\n",
       "      <td>2</td>\n",
       "      <td>0.014177</td>\n",
       "      <td>0.981547</td>\n",
       "      <td>-0.157197</td>\n",
       "      <td>0.039010</td>\n",
       "      <td>-9.371251</td>\n",
       "      <td>0.0</td>\n",
       "      <td>80.800003</td>\n",
       "      <td>4183.333496</td>\n",
       "      <td>58690000000000</td>\n",
       "      <td>2</td>\n",
       "      <td>4</td>\n",
       "      <td>39.0</td>\n",
       "    </tr>\n",
       "    <tr>\n",
       "      <th>3</th>\n",
       "      <td>3</td>\n",
       "      <td>-0.165815</td>\n",
       "      <td>0.754831</td>\n",
       "      <td>0.580785</td>\n",
       "      <td>0.099852</td>\n",
       "      <td>36.823677</td>\n",
       "      <td>0.0</td>\n",
       "      <td>9.500000</td>\n",
       "      <td>4183.000000</td>\n",
       "      <td>58695000000000</td>\n",
       "      <td>2</td>\n",
       "      <td>4</td>\n",
       "      <td>39.0</td>\n",
       "    </tr>\n",
       "    <tr>\n",
       "      <th>4</th>\n",
       "      <td>4</td>\n",
       "      <td>-0.401472</td>\n",
       "      <td>-0.326161</td>\n",
       "      <td>0.702366</td>\n",
       "      <td>0.058624</td>\n",
       "      <td>48.882442</td>\n",
       "      <td>0.0</td>\n",
       "      <td>1.666667</td>\n",
       "      <td>4182.666504</td>\n",
       "      <td>58700000000000</td>\n",
       "      <td>2</td>\n",
       "      <td>4</td>\n",
       "      <td>39.0</td>\n",
       "    </tr>\n",
       "    <tr>\n",
       "      <th>...</th>\n",
       "      <td>...</td>\n",
       "      <td>...</td>\n",
       "      <td>...</td>\n",
       "      <td>...</td>\n",
       "      <td>...</td>\n",
       "      <td>...</td>\n",
       "      <td>...</td>\n",
       "      <td>...</td>\n",
       "      <td>...</td>\n",
       "      <td>...</td>\n",
       "      <td>...</td>\n",
       "      <td>...</td>\n",
       "      <td>...</td>\n",
       "    </tr>\n",
       "    <tr>\n",
       "      <th>370951</th>\n",
       "      <td>370951</td>\n",
       "      <td>0.184817</td>\n",
       "      <td>0.013651</td>\n",
       "      <td>0.998449</td>\n",
       "      <td>0.015514</td>\n",
       "      <td>79.541451</td>\n",
       "      <td>1.0</td>\n",
       "      <td>2.500000</td>\n",
       "      <td>3098.833252</td>\n",
       "      <td>12635000000000</td>\n",
       "      <td>3</td>\n",
       "      <td>4</td>\n",
       "      <td>61.0</td>\n",
       "    </tr>\n",
       "    <tr>\n",
       "      <th>370952</th>\n",
       "      <td>370952</td>\n",
       "      <td>0.184298</td>\n",
       "      <td>0.013729</td>\n",
       "      <td>0.998748</td>\n",
       "      <td>0.015714</td>\n",
       "      <td>79.568062</td>\n",
       "      <td>1.0</td>\n",
       "      <td>2.500000</td>\n",
       "      <td>3098.666748</td>\n",
       "      <td>12640000000000</td>\n",
       "      <td>3</td>\n",
       "      <td>4</td>\n",
       "      <td>61.0</td>\n",
       "    </tr>\n",
       "    <tr>\n",
       "      <th>370953</th>\n",
       "      <td>370953</td>\n",
       "      <td>0.184778</td>\n",
       "      <td>0.013651</td>\n",
       "      <td>0.998761</td>\n",
       "      <td>0.015821</td>\n",
       "      <td>79.566879</td>\n",
       "      <td>1.0</td>\n",
       "      <td>2.500000</td>\n",
       "      <td>3098.500000</td>\n",
       "      <td>12645000000000</td>\n",
       "      <td>3</td>\n",
       "      <td>4</td>\n",
       "      <td>61.0</td>\n",
       "    </tr>\n",
       "    <tr>\n",
       "      <th>370954</th>\n",
       "      <td>370954</td>\n",
       "      <td>0.184635</td>\n",
       "      <td>0.013414</td>\n",
       "      <td>0.998501</td>\n",
       "      <td>0.015528</td>\n",
       "      <td>79.554039</td>\n",
       "      <td>1.0</td>\n",
       "      <td>2.500000</td>\n",
       "      <td>3098.333252</td>\n",
       "      <td>12650000000000</td>\n",
       "      <td>3</td>\n",
       "      <td>4</td>\n",
       "      <td>61.0</td>\n",
       "    </tr>\n",
       "    <tr>\n",
       "      <th>370955</th>\n",
       "      <td>370955</td>\n",
       "      <td>0.184726</td>\n",
       "      <td>0.013493</td>\n",
       "      <td>0.998423</td>\n",
       "      <td>0.015468</td>\n",
       "      <td>79.566086</td>\n",
       "      <td>1.0</td>\n",
       "      <td>2.500000</td>\n",
       "      <td>3098.166748</td>\n",
       "      <td>12655000000000</td>\n",
       "      <td>3</td>\n",
       "      <td>4</td>\n",
       "      <td>61.0</td>\n",
       "    </tr>\n",
       "  </tbody>\n",
       "</table>\n",
       "<p>370956 rows × 13 columns</p>\n",
       "</div>"
      ],
      "text/plain": [
       "          step         X         Y         Z      enmo     anglez  \\\n",
       "0            0  0.294667  0.307097 -1.022549  0.307828 -60.737103   \n",
       "1            1 -0.121981  0.903011 -0.297953  0.195007 -13.897434   \n",
       "2            2  0.014177  0.981547 -0.157197  0.039010  -9.371251   \n",
       "3            3 -0.165815  0.754831  0.580785  0.099852  36.823677   \n",
       "4            4 -0.401472 -0.326161  0.702366  0.058624  48.882442   \n",
       "...        ...       ...       ...       ...       ...        ...   \n",
       "370951  370951  0.184817  0.013651  0.998449  0.015514  79.541451   \n",
       "370952  370952  0.184298  0.013729  0.998748  0.015714  79.568062   \n",
       "370953  370953  0.184778  0.013651  0.998761  0.015821  79.566879   \n",
       "370954  370954  0.184635  0.013414  0.998501  0.015528  79.554039   \n",
       "370955  370955  0.184726  0.013493  0.998423  0.015468  79.566086   \n",
       "\n",
       "        non-wear_flag      light  battery_voltage     time_of_day  weekday  \\\n",
       "0                 0.0  28.000000      4184.000000  58680000000000        2   \n",
       "1                 0.0  89.199997      4183.666504  58685000000000        2   \n",
       "2                 0.0  80.800003      4183.333496  58690000000000        2   \n",
       "3                 0.0   9.500000      4183.000000  58695000000000        2   \n",
       "4                 0.0   1.666667      4182.666504  58700000000000        2   \n",
       "...               ...        ...              ...             ...      ...   \n",
       "370951            1.0   2.500000      3098.833252  12635000000000        3   \n",
       "370952            1.0   2.500000      3098.666748  12640000000000        3   \n",
       "370953            1.0   2.500000      3098.500000  12645000000000        3   \n",
       "370954            1.0   2.500000      3098.333252  12650000000000        3   \n",
       "370955            1.0   2.500000      3098.166748  12655000000000        3   \n",
       "\n",
       "        quarter  relative_date_PCIAT  \n",
       "0             4                 39.0  \n",
       "1             4                 39.0  \n",
       "2             4                 39.0  \n",
       "3             4                 39.0  \n",
       "4             4                 39.0  \n",
       "...         ...                  ...  \n",
       "370951        4                 61.0  \n",
       "370952        4                 61.0  \n",
       "370953        4                 61.0  \n",
       "370954        4                 61.0  \n",
       "370955        4                 61.0  \n",
       "\n",
       "[370956 rows x 13 columns]"
      ]
     },
     "execution_count": 9,
     "metadata": {},
     "output_type": "execute_result"
    }
   ],
   "source": [
    "ts_df"
   ]
  },
  {
   "cell_type": "code",
   "execution_count": 10,
   "id": "25621c26",
   "metadata": {
    "execution": {
     "iopub.execute_input": "2024-12-19T03:15:53.681186Z",
     "iopub.status.busy": "2024-12-19T03:15:53.680706Z",
     "iopub.status.idle": "2024-12-19T03:15:54.103516Z",
     "shell.execute_reply": "2024-12-19T03:15:54.102369Z"
    },
    "papermill": {
     "duration": 0.436311,
     "end_time": "2024-12-19T03:15:54.105612",
     "exception": false,
     "start_time": "2024-12-19T03:15:53.669301",
     "status": "completed"
    },
    "tags": []
   },
   "outputs": [
    {
     "data": {
      "text/plain": [
       "Text(0, 0.5, 'X')"
      ]
     },
     "execution_count": 10,
     "metadata": {},
     "output_type": "execute_result"
    },
    {
     "data": {
      "image/png": "[encoded data removed]",
      "text/plain": [
       "<Figure size 1000x200 with 1 Axes>"
      ]
     },
     "metadata": {},
     "output_type": "display_data"
    }
   ],
   "source": [
    "plt.figure(figsize=(10, 2)) \n",
    "plt.plot(ts_df['step'], ts_df['enmo'], color='g')\n",
    "plt.title('X-value', fontsize=16)\n",
    "plt.xlabel('Step', fontsize=12)\n",
    "plt.ylabel('X', fontsize=12)"
   ]
  },
  {
   "cell_type": "markdown",
   "id": "81b9d918",
   "metadata": {
    "papermill": {
     "duration": 0.010306,
     "end_time": "2024-12-19T03:15:54.126690",
     "exception": false,
     "start_time": "2024-12-19T03:15:54.116384",
     "status": "completed"
    },
    "tags": []
   },
   "source": [
    "# Data Processing"
   ]
  },
  {
   "cell_type": "code",
   "execution_count": 11,
   "id": "51e784a7",
   "metadata": {
    "execution": {
     "iopub.execute_input": "2024-12-19T03:15:54.150397Z",
     "iopub.status.busy": "2024-12-19T03:15:54.149397Z",
     "iopub.status.idle": "2024-12-19T03:15:54.154712Z",
     "shell.execute_reply": "2024-12-19T03:15:54.153701Z"
    },
    "papermill": {
     "duration": 0.019241,
     "end_time": "2024-12-19T03:15:54.156634",
     "exception": false,
     "start_time": "2024-12-19T03:15:54.137393",
     "status": "completed"
    },
    "tags": []
   },
   "outputs": [],
   "source": [
    "is_aggregated = False\n",
    "is_derived = True\n",
    "is_removed_week_correlation = True\n",
    "weak_correlation_threshold = 0.07\n",
    "dropped_columns = ['id', 'SDS-SDS_Total_T']"
   ]
  },
  {
   "cell_type": "markdown",
   "id": "15fc76e9",
   "metadata": {
    "papermill": {
     "duration": 0.010468,
     "end_time": "2024-12-19T03:15:54.177880",
     "exception": false,
     "start_time": "2024-12-19T03:15:54.167412",
     "status": "completed"
    },
    "tags": []
   },
   "source": [
    "## CSV"
   ]
  },
  {
   "cell_type": "code",
   "execution_count": 12,
   "id": "4ab783ea",
   "metadata": {
    "execution": {
     "iopub.execute_input": "2024-12-19T03:15:54.201747Z",
     "iopub.status.busy": "2024-12-19T03:15:54.201384Z",
     "iopub.status.idle": "2024-12-19T03:15:54.255957Z",
     "shell.execute_reply": "2024-12-19T03:15:54.254815Z"
    },
    "papermill": {
     "duration": 0.069753,
     "end_time": "2024-12-19T03:15:54.258427",
     "exception": false,
     "start_time": "2024-12-19T03:15:54.188674",
     "status": "completed"
    },
    "tags": []
   },
   "outputs": [],
   "source": [
    "df_train = pd.read_csv(\"/kaggle/input/child-mind-institute-problematic-internet-use/train.csv\")\n",
    "df_test = pd.read_csv(\"/kaggle/input/child-mind-institute-problematic-internet-use/test.csv\")\n",
    "df_data_dict = pd.read_csv(\"/kaggle/input/child-mind-institute-problematic-internet-use/data_dictionary.csv\")"
   ]
  },
  {
   "cell_type": "code",
   "execution_count": 13,
   "id": "b8873e02",
   "metadata": {
    "execution": {
     "iopub.execute_input": "2024-12-19T03:15:54.281897Z",
     "iopub.status.busy": "2024-12-19T03:15:54.281486Z",
     "iopub.status.idle": "2024-12-19T03:15:54.296825Z",
     "shell.execute_reply": "2024-12-19T03:15:54.295451Z"
    },
    "papermill": {
     "duration": 0.029911,
     "end_time": "2024-12-19T03:15:54.299351",
     "exception": false,
     "start_time": "2024-12-19T03:15:54.269440",
     "status": "completed"
    },
    "tags": []
   },
   "outputs": [],
   "source": [
    "# Remove unlabeled data\n",
    "df_train = df_train.dropna(subset=['sii'])\n",
    "\n",
    "# Drop columns > 50% Nan\n",
    "reliable_columns = df_train.columns[df_train.isna().mean() < 0.5]\n",
    "df_train = df_train[reliable_columns]\n",
    "\n",
    "# Get the common columns with test\n",
    "# common_columns = df_train.columns.intersection(df_test.columns)\n",
    "# df_train = df_train[common_columns]\n",
    "\n",
    "# df_train_x = df_train"
   ]
  },
  {
   "cell_type": "code",
   "execution_count": 14,
   "id": "6fbc5b89",
   "metadata": {
    "execution": {
     "iopub.execute_input": "2024-12-19T03:15:54.322786Z",
     "iopub.status.busy": "2024-12-19T03:15:54.322070Z",
     "iopub.status.idle": "2024-12-19T03:15:54.329469Z",
     "shell.execute_reply": "2024-12-19T03:15:54.328475Z"
    },
    "papermill": {
     "duration": 0.02136,
     "end_time": "2024-12-19T03:15:54.331587",
     "exception": false,
     "start_time": "2024-12-19T03:15:54.310227",
     "status": "completed"
    },
    "tags": []
   },
   "outputs": [
    {
     "data": {
      "text/plain": [
       "Index(['id', 'Basic_Demos-Enroll_Season', 'Basic_Demos-Age', 'Basic_Demos-Sex',\n",
       "       'CGAS-Season', 'CGAS-CGAS_Score', 'Physical-Season', 'Physical-BMI',\n",
       "       'Physical-Height', 'Physical-Weight', 'Physical-Diastolic_BP',\n",
       "       'Physical-HeartRate', 'Physical-Systolic_BP', 'FGC-Season',\n",
       "       'FGC-FGC_CU', 'FGC-FGC_CU_Zone', 'FGC-FGC_PU', 'FGC-FGC_PU_Zone',\n",
       "       'FGC-FGC_SRL', 'FGC-FGC_SRL_Zone', 'FGC-FGC_SRR', 'FGC-FGC_SRR_Zone',\n",
       "       'FGC-FGC_TL', 'FGC-FGC_TL_Zone', 'BIA-Season',\n",
       "       'BIA-BIA_Activity_Level_num', 'BIA-BIA_BMC', 'BIA-BIA_BMI',\n",
       "       'BIA-BIA_BMR', 'BIA-BIA_DEE', 'BIA-BIA_ECW', 'BIA-BIA_FFM',\n",
       "       'BIA-BIA_FFMI', 'BIA-BIA_FMI', 'BIA-BIA_Fat', 'BIA-BIA_Frame_num',\n",
       "       'BIA-BIA_ICW', 'BIA-BIA_LDM', 'BIA-BIA_LST', 'BIA-BIA_SMM',\n",
       "       'BIA-BIA_TBW', 'PAQ_C-Season', 'PAQ_C-PAQ_C_Total', 'PCIAT-Season',\n",
       "       'PCIAT-PCIAT_01', 'PCIAT-PCIAT_02', 'PCIAT-PCIAT_03', 'PCIAT-PCIAT_04',\n",
       "       'PCIAT-PCIAT_05', 'PCIAT-PCIAT_06', 'PCIAT-PCIAT_07', 'PCIAT-PCIAT_08',\n",
       "       'PCIAT-PCIAT_09', 'PCIAT-PCIAT_10', 'PCIAT-PCIAT_11', 'PCIAT-PCIAT_12',\n",
       "       'PCIAT-PCIAT_13', 'PCIAT-PCIAT_14', 'PCIAT-PCIAT_15', 'PCIAT-PCIAT_16',\n",
       "       'PCIAT-PCIAT_17', 'PCIAT-PCIAT_18', 'PCIAT-PCIAT_19', 'PCIAT-PCIAT_20',\n",
       "       'PCIAT-PCIAT_Total', 'SDS-Season', 'SDS-SDS_Total_Raw',\n",
       "       'SDS-SDS_Total_T', 'PreInt_EduHx-Season',\n",
       "       'PreInt_EduHx-computerinternet_hoursday', 'sii'],\n",
       "      dtype='object')"
      ]
     },
     "execution_count": 14,
     "metadata": {},
     "output_type": "execute_result"
    }
   ],
   "source": [
    "df_train.columns"
   ]
  },
  {
   "cell_type": "markdown",
   "id": "895a2ac7",
   "metadata": {
    "papermill": {
     "duration": 0.010552,
     "end_time": "2024-12-19T03:15:54.353097",
     "exception": false,
     "start_time": "2024-12-19T03:15:54.342545",
     "status": "completed"
    },
    "tags": []
   },
   "source": [
    "## Parquet"
   ]
  },
  {
   "cell_type": "code",
   "execution_count": 15,
   "id": "ffaa7a49",
   "metadata": {
    "execution": {
     "iopub.execute_input": "2024-12-19T03:15:54.377003Z",
     "iopub.status.busy": "2024-12-19T03:15:54.375956Z",
     "iopub.status.idle": "2024-12-19T03:15:54.427659Z",
     "shell.execute_reply": "2024-12-19T03:15:54.426449Z"
    },
    "papermill": {
     "duration": 0.066231,
     "end_time": "2024-12-19T03:15:54.430115",
     "exception": false,
     "start_time": "2024-12-19T03:15:54.363884",
     "status": "completed"
    },
    "tags": []
   },
   "outputs": [],
   "source": [
    "train_parquet_dir = '/kaggle/input/child-mind-institute-problematic-internet-use/series_train.parquet/'\n",
    "test_parquet_dir = '/kaggle/input/child-mind-institute-problematic-internet-use/series_test.parquet/'\n",
    "\n",
    "ts_df = pd.read_parquet('/kaggle/input/child-mind-institute-problematic-internet-use/series_train.parquet/id=01085eb3', engine='pyarrow')\n",
    "ts_columns = ts_df.drop(columns=['step', 'time_of_day', 'weekday', 'quarter']).columns"
   ]
  },
  {
   "cell_type": "code",
   "execution_count": 16,
   "id": "8b71f4bc",
   "metadata": {
    "execution": {
     "iopub.execute_input": "2024-12-19T03:15:54.453973Z",
     "iopub.status.busy": "2024-12-19T03:15:54.453549Z",
     "iopub.status.idle": "2024-12-19T03:15:54.460099Z",
     "shell.execute_reply": "2024-12-19T03:15:54.458895Z"
    },
    "papermill": {
     "duration": 0.021084,
     "end_time": "2024-12-19T03:15:54.462130",
     "exception": false,
     "start_time": "2024-12-19T03:15:54.441046",
     "status": "completed"
    },
    "tags": []
   },
   "outputs": [],
   "source": [
    "def aggregate_row(row, parquet_dir, ts_columns):\n",
    "    parquet_file_path = os.path.join(train_parquet_dir, f\"id={row['id']}\", \"part-0.parquet\")\n",
    "    if os.path.exists(parquet_file_path):\n",
    "        ts_df = pd.read_parquet(parquet_file_path, engine='pyarrow')\n",
    "        ts_df_mean = ts_df.mean()[ts_columns]\n",
    "        return pd.concat([row, ts_df_mean], axis=0)\n",
    "    else:\n",
    "        tf_df_miss = pd.Series([-1] * (len(ts_columns)), index=ts_columns)\n",
    "        return pd.concat([row, tf_df_miss], axis=0)\n"
   ]
  },
  {
   "cell_type": "code",
   "execution_count": 17,
   "id": "b8df3d5b",
   "metadata": {
    "execution": {
     "iopub.execute_input": "2024-12-19T03:15:54.485524Z",
     "iopub.status.busy": "2024-12-19T03:15:54.485179Z",
     "iopub.status.idle": "2024-12-19T03:15:54.490842Z",
     "shell.execute_reply": "2024-12-19T03:15:54.489773Z"
    },
    "papermill": {
     "duration": 0.019598,
     "end_time": "2024-12-19T03:15:54.492807",
     "exception": false,
     "start_time": "2024-12-19T03:15:54.473209",
     "status": "completed"
    },
    "tags": []
   },
   "outputs": [],
   "source": [
    "if is_aggregated:\n",
    "    aggregated_train = [aggregate_row(row, train_parquet_dir, ts_columns) for _, row in df_train.iterrows()]\n",
    "    aggregated_test = [aggregate_row(row, test_parquet_dir, ts_columns) for _, row in df_test.iterrows()]\n",
    "else:\n",
    "    aggregated_train = df_train\n",
    "    aggregated_test = df_test"
   ]
  },
  {
   "cell_type": "code",
   "execution_count": 18,
   "id": "346d7535",
   "metadata": {
    "execution": {
     "iopub.execute_input": "2024-12-19T03:15:54.516040Z",
     "iopub.status.busy": "2024-12-19T03:15:54.515582Z",
     "iopub.status.idle": "2024-12-19T03:15:54.520876Z",
     "shell.execute_reply": "2024-12-19T03:15:54.519828Z"
    },
    "papermill": {
     "duration": 0.019413,
     "end_time": "2024-12-19T03:15:54.522925",
     "exception": false,
     "start_time": "2024-12-19T03:15:54.503512",
     "status": "completed"
    },
    "tags": []
   },
   "outputs": [],
   "source": [
    "df_aggregated_test = pd.DataFrame(aggregated_test)\n",
    "df_aggregated_train = pd.DataFrame(aggregated_train)"
   ]
  },
  {
   "cell_type": "code",
   "execution_count": 19,
   "id": "7a548741",
   "metadata": {
    "execution": {
     "iopub.execute_input": "2024-12-19T03:15:54.546434Z",
     "iopub.status.busy": "2024-12-19T03:15:54.545770Z",
     "iopub.status.idle": "2024-12-19T03:15:54.556142Z",
     "shell.execute_reply": "2024-12-19T03:15:54.554871Z"
    },
    "papermill": {
     "duration": 0.024632,
     "end_time": "2024-12-19T03:15:54.558410",
     "exception": false,
     "start_time": "2024-12-19T03:15:54.533778",
     "status": "completed"
    },
    "tags": []
   },
   "outputs": [],
   "source": [
    "if is_derived:\n",
    "    # df_aggregated_train['Derived_BMI__'] = df_aggregated_train['Physical-Weight'] / (df_aggregated_train['Physical-Height'] / 100)**2\n",
    "    # df_aggregated_test['Derived_BMI__'] = df_aggregated_test['Physical-Weight'] / (df_aggregated_test['Physical-Height'] / 100)**2\n",
    "\n",
    "    df_aggregated_train['Pulse_Pressure__'] = df_aggregated_train['Physical-Systolic_BP'] - df_aggregated_train['Physical-Diastolic_BP']\n",
    "    df_aggregated_test['Pulse_Pressure__'] = df_aggregated_test['Physical-Systolic_BP'] - df_aggregated_test['Physical-Diastolic_BP']\n",
    "\n",
    "    df_aggregated_train['Fat_Muscle_Ratio__'] = df_aggregated_train['BIA-BIA_Fat'] / df_aggregated_train['BIA-BIA_LDM']\n",
    "    df_aggregated_test['Fat_Muscle_Ratio__'] = df_aggregated_test['BIA-BIA_Fat'] / df_aggregated_test['BIA-BIA_LDM']\n",
    "\n",
    "    df_aggregated_train['Weight_Height_Ratio__'] = df_aggregated_train['Physical-Weight'] / df_aggregated_train['Physical-Height']\n",
    "    df_aggregated_test['Weight_Height_Ratio__'] = df_aggregated_test['Physical-Weight'] / df_aggregated_test['Physical-Height']\n"
   ]
  },
  {
   "cell_type": "code",
   "execution_count": 20,
   "id": "c28ce73d",
   "metadata": {
    "execution": {
     "iopub.execute_input": "2024-12-19T03:15:54.582012Z",
     "iopub.status.busy": "2024-12-19T03:15:54.581225Z",
     "iopub.status.idle": "2024-12-19T03:15:54.588972Z",
     "shell.execute_reply": "2024-12-19T03:15:54.587974Z"
    },
    "papermill": {
     "duration": 0.021759,
     "end_time": "2024-12-19T03:15:54.591082",
     "exception": false,
     "start_time": "2024-12-19T03:15:54.569323",
     "status": "completed"
    },
    "tags": []
   },
   "outputs": [],
   "source": [
    "season_cols = [\n",
    "    'Basic_Demos-Enroll_Season',\n",
    "    'CGAS-Season', \n",
    "    'Physical-Season',\n",
    "    'Fitness_Endurance-Season',\n",
    "    'FGC-Season',\n",
    "    'BIA-Season',\n",
    "    'PAQ_A-Season', \n",
    "    'PAQ_C-Season',\n",
    "    'PCIAT-Season', \n",
    "    'SDS-Season',\n",
    "    'PreInt_EduHx-Season',\n",
    "]\n",
    "# Create a mapping dictionary for seasons\n",
    "season_mapping = {\n",
    "    'Spring': 0,\n",
    "    'Summer': 1,\n",
    "    'Fall': 2,\n",
    "    'Winter': 3\n",
    "}\n",
    "\n",
    "# Apply manual encoding to the categorical columns\n",
    "def seasonMapping(dataframe):\n",
    "    pd.set_option('future.no_silent_downcasting', True)\n",
    "    for col in season_cols:\n",
    "        if col in dataframe.columns:\n",
    "            dataframe[col] = dataframe[col].replace(season_mapping)\n",
    "            dataframe[col] = dataframe[col].astype(int)"
   ]
  },
  {
   "cell_type": "code",
   "execution_count": 21,
   "id": "6fd52619",
   "metadata": {
    "execution": {
     "iopub.execute_input": "2024-12-19T03:15:54.614513Z",
     "iopub.status.busy": "2024-12-19T03:15:54.613689Z",
     "iopub.status.idle": "2024-12-19T03:15:54.637738Z",
     "shell.execute_reply": "2024-12-19T03:15:54.636765Z"
    },
    "papermill": {
     "duration": 0.038337,
     "end_time": "2024-12-19T03:15:54.640200",
     "exception": false,
     "start_time": "2024-12-19T03:15:54.601863",
     "status": "completed"
    },
    "tags": []
   },
   "outputs": [],
   "source": [
    "df_aggregated_train = df_aggregated_train.fillna(-1)\n",
    "seasonMapping(df_aggregated_train)\n",
    "df_aggregated_train = df_aggregated_train.drop(columns=dropped_columns)"
   ]
  },
  {
   "cell_type": "code",
   "execution_count": 22,
   "id": "b2635c95",
   "metadata": {
    "execution": {
     "iopub.execute_input": "2024-12-19T03:15:54.663840Z",
     "iopub.status.busy": "2024-12-19T03:15:54.663161Z",
     "iopub.status.idle": "2024-12-19T03:15:54.677477Z",
     "shell.execute_reply": "2024-12-19T03:15:54.676424Z"
    },
    "papermill": {
     "duration": 0.028303,
     "end_time": "2024-12-19T03:15:54.679561",
     "exception": false,
     "start_time": "2024-12-19T03:15:54.651258",
     "status": "completed"
    },
    "tags": []
   },
   "outputs": [],
   "source": [
    "df_aggregated_test = df_aggregated_test.fillna(-1)\n",
    "seasonMapping(df_aggregated_test)\n",
    "df_aggregated_test = df_aggregated_test.drop(columns=dropped_columns)"
   ]
  },
  {
   "cell_type": "code",
   "execution_count": 23,
   "id": "4c6b9b42",
   "metadata": {
    "execution": {
     "iopub.execute_input": "2024-12-19T03:15:54.703244Z",
     "iopub.status.busy": "2024-12-19T03:15:54.702412Z",
     "iopub.status.idle": "2024-12-19T03:15:54.792536Z",
     "shell.execute_reply": "2024-12-19T03:15:54.791423Z"
    },
    "papermill": {
     "duration": 0.104498,
     "end_time": "2024-12-19T03:15:54.794943",
     "exception": false,
     "start_time": "2024-12-19T03:15:54.690445",
     "status": "completed"
    },
    "tags": []
   },
   "outputs": [
    {
     "name": "stdout",
     "output_type": "stream",
     "text": [
      "Basic_Demos-Enroll_Season                 0.038949\n",
      "Basic_Demos-Age                           0.365990\n",
      "Basic_Demos-Sex                          -0.100148\n",
      "CGAS-Season                              -0.012013\n",
      "CGAS-CGAS_Score                          -0.029023\n",
      "Physical-Season                           0.026561\n",
      "Physical-BMI                              0.154942\n",
      "Physical-Height                           0.168196\n",
      "Physical-Weight                           0.284889\n",
      "Physical-Diastolic_BP                     0.046329\n",
      "Physical-HeartRate                        0.013321\n",
      "Physical-Systolic_BP                      0.077139\n",
      "FGC-Season                               -0.028249\n",
      "FGC-FGC_CU                                0.152030\n",
      "FGC-FGC_CU_Zone                          -0.044882\n",
      "FGC-FGC_PU                                0.105840\n",
      "FGC-FGC_PU_Zone                          -0.018666\n",
      "FGC-FGC_SRL                              -0.059390\n",
      "FGC-FGC_SRL_Zone                         -0.075180\n",
      "FGC-FGC_SRR                              -0.054628\n",
      "FGC-FGC_SRR_Zone                         -0.059453\n",
      "FGC-FGC_TL                                0.000331\n",
      "FGC-FGC_TL_Zone                          -0.044531\n",
      "BIA-Season                               -0.024495\n",
      "BIA-BIA_Activity_Level_num                0.011998\n",
      "BIA-BIA_BMC                              -0.008893\n",
      "BIA-BIA_BMI                               0.062099\n",
      "BIA-BIA_BMR                               0.020872\n",
      "BIA-BIA_DEE                               0.030244\n",
      "BIA-BIA_ECW                               0.022743\n",
      "BIA-BIA_FFM                               0.023360\n",
      "BIA-BIA_FFMI                              0.036754\n",
      "BIA-BIA_FMI                               0.052496\n",
      "BIA-BIA_Fat                               0.029887\n",
      "BIA-BIA_Frame_num                         0.043074\n",
      "BIA-BIA_ICW                               0.032687\n",
      "BIA-BIA_LDM                               0.015725\n",
      "BIA-BIA_LST                               0.048571\n",
      "BIA-BIA_SMM                               0.034655\n",
      "BIA-BIA_TBW                               0.027350\n",
      "PAQ_C-Season                              0.091443\n",
      "PAQ_C-PAQ_C_Total                         0.078345\n",
      "PCIAT-Season                              0.024302\n",
      "PCIAT-PCIAT_01                            0.617058\n",
      "PCIAT-PCIAT_02                            0.694595\n",
      "PCIAT-PCIAT_03                            0.690088\n",
      "PCIAT-PCIAT_04                            0.585659\n",
      "PCIAT-PCIAT_05                            0.717646\n",
      "PCIAT-PCIAT_06                            0.643997\n",
      "PCIAT-PCIAT_07                            0.458066\n",
      "PCIAT-PCIAT_08                            0.694143\n",
      "PCIAT-PCIAT_09                            0.658611\n",
      "PCIAT-PCIAT_10                            0.689269\n",
      "PCIAT-PCIAT_11                            0.608157\n",
      "PCIAT-PCIAT_12                            0.364921\n",
      "PCIAT-PCIAT_13                            0.703204\n",
      "PCIAT-PCIAT_14                            0.673650\n",
      "PCIAT-PCIAT_15                            0.749421\n",
      "PCIAT-PCIAT_16                            0.695467\n",
      "PCIAT-PCIAT_17                            0.715896\n",
      "PCIAT-PCIAT_18                            0.726849\n",
      "PCIAT-PCIAT_19                            0.680265\n",
      "PCIAT-PCIAT_20                            0.700455\n",
      "PCIAT-PCIAT_Total                         0.899681\n",
      "SDS-Season                                0.008168\n",
      "SDS-SDS_Total_Raw                         0.139025\n",
      "PreInt_EduHx-Season                       0.044535\n",
      "PreInt_EduHx-computerinternet_hoursday    0.317467\n",
      "sii                                       1.000000\n",
      "Pulse_Pressure__                          0.096726\n",
      "Fat_Muscle_Ratio__                        0.053002\n",
      "Weight_Height_Ratio__                     0.193944\n",
      "Name: sii, dtype: float64\n"
     ]
    }
   ],
   "source": [
    "# Filter weak correlated features\n",
    "pd.set_option('display.max_rows', None)\n",
    "print(df_aggregated_train.corr()['sii'])\n",
    "\n",
    "if is_removed_week_correlation:\n",
    "    strong_correlated_columns = df_aggregated_train.columns[np.abs(df_aggregated_train.corr()['sii']) > weak_correlation_threshold]\n",
    "    df_aggregated_train = df_aggregated_train[strong_correlated_columns]\n",
    "    \n",
    "pd.set_option('display.max_rows', 10)\n",
    "\n"
   ]
  },
  {
   "cell_type": "code",
   "execution_count": 24,
   "id": "f7fa13b9",
   "metadata": {
    "execution": {
     "iopub.execute_input": "2024-12-19T03:15:54.818991Z",
     "iopub.status.busy": "2024-12-19T03:15:54.818154Z",
     "iopub.status.idle": "2024-12-19T03:15:54.826512Z",
     "shell.execute_reply": "2024-12-19T03:15:54.825404Z"
    },
    "papermill": {
     "duration": 0.022545,
     "end_time": "2024-12-19T03:15:54.828488",
     "exception": false,
     "start_time": "2024-12-19T03:15:54.805943",
     "status": "completed"
    },
    "tags": []
   },
   "outputs": [
    {
     "data": {
      "text/plain": [
       "0       2.0\n",
       "1       0.0\n",
       "2       0.0\n",
       "3       1.0\n",
       "5       1.0\n",
       "       ... \n",
       "3953    0.0\n",
       "3954    1.0\n",
       "3955    1.0\n",
       "3957    1.0\n",
       "3958    0.0\n",
       "Name: sii, Length: 2736, dtype: float64"
      ]
     },
     "execution_count": 24,
     "metadata": {},
     "output_type": "execute_result"
    }
   ],
   "source": [
    "# df_aggregated_train = df_train\n",
    "# df_aggregated_train = df_aggregated_train.fillna(0) # comment\n",
    "# df_aggregated_test = df_test\n",
    "\n",
    "#-------\n",
    "label = df_aggregated_train['sii']\n",
    "label"
   ]
  },
  {
   "cell_type": "code",
   "execution_count": 25,
   "id": "6b90623c",
   "metadata": {
    "execution": {
     "iopub.execute_input": "2024-12-19T03:15:54.852457Z",
     "iopub.status.busy": "2024-12-19T03:15:54.851778Z",
     "iopub.status.idle": "2024-12-19T03:15:54.860530Z",
     "shell.execute_reply": "2024-12-19T03:15:54.859394Z"
    },
    "papermill": {
     "duration": 0.023213,
     "end_time": "2024-12-19T03:15:54.862838",
     "exception": false,
     "start_time": "2024-12-19T03:15:54.839625",
     "status": "completed"
    },
    "tags": []
   },
   "outputs": [],
   "source": [
    "common_columns = df_aggregated_train.columns.intersection(df_aggregated_test.columns)\n",
    "df_aggregated_train = df_aggregated_train[common_columns]\n",
    "df_aggregated_test = df_aggregated_test[common_columns]"
   ]
  },
  {
   "cell_type": "code",
   "execution_count": 26,
   "id": "ef8f01cc",
   "metadata": {
    "execution": {
     "iopub.execute_input": "2024-12-19T03:15:54.888119Z",
     "iopub.status.busy": "2024-12-19T03:15:54.887160Z",
     "iopub.status.idle": "2024-12-19T03:15:55.693726Z",
     "shell.execute_reply": "2024-12-19T03:15:55.692648Z"
    },
    "papermill": {
     "duration": 0.82406,
     "end_time": "2024-12-19T03:15:55.698550",
     "exception": false,
     "start_time": "2024-12-19T03:15:54.874490",
     "status": "completed"
    },
    "tags": []
   },
   "outputs": [
    {
     "data": {
      "image/png": "[encoded data removed]",
      "text/plain": [
       "<Figure size 1200x800 with 2 Axes>"
      ]
     },
     "metadata": {},
     "output_type": "display_data"
    }
   ],
   "source": [
    "corr_matrix = df_aggregated_train.corr()\n",
    "plt.figure(figsize=(12, 8))  # Adjust the figure size (width, height)\n",
    "sb.heatmap(corr_matrix, annot=True, fmt=\".2f\", cmap=\"coolwarm\")\n",
    "plt.show()"
   ]
  },
  {
   "cell_type": "code",
   "execution_count": 27,
   "id": "34776bbb",
   "metadata": {
    "execution": {
     "iopub.execute_input": "2024-12-19T03:15:55.730721Z",
     "iopub.status.busy": "2024-12-19T03:15:55.729797Z",
     "iopub.status.idle": "2024-12-19T03:15:55.753140Z",
     "shell.execute_reply": "2024-12-19T03:15:55.752075Z"
    },
    "papermill": {
     "duration": 0.041027,
     "end_time": "2024-12-19T03:15:55.755131",
     "exception": false,
     "start_time": "2024-12-19T03:15:55.714104",
     "status": "completed"
    },
    "tags": []
   },
   "outputs": [
    {
     "data": {
      "text/html": [
       "<div>\n",
       "<style scoped>\n",
       "    .dataframe tbody tr th:only-of-type {\n",
       "        vertical-align: middle;\n",
       "    }\n",
       "\n",
       "    .dataframe tbody tr th {\n",
       "        vertical-align: top;\n",
       "    }\n",
       "\n",
       "    .dataframe thead th {\n",
       "        text-align: right;\n",
       "    }\n",
       "</style>\n",
       "<table border=\"1\" class=\"dataframe\">\n",
       "  <thead>\n",
       "    <tr style=\"text-align: right;\">\n",
       "      <th></th>\n",
       "      <th>Basic_Demos-Age</th>\n",
       "      <th>Basic_Demos-Sex</th>\n",
       "      <th>Physical-BMI</th>\n",
       "      <th>Physical-Height</th>\n",
       "      <th>Physical-Weight</th>\n",
       "      <th>Physical-Systolic_BP</th>\n",
       "      <th>FGC-FGC_CU</th>\n",
       "      <th>FGC-FGC_PU</th>\n",
       "      <th>FGC-FGC_SRL_Zone</th>\n",
       "      <th>PAQ_C-Season</th>\n",
       "      <th>PAQ_C-PAQ_C_Total</th>\n",
       "      <th>SDS-SDS_Total_Raw</th>\n",
       "      <th>PreInt_EduHx-computerinternet_hoursday</th>\n",
       "      <th>Pulse_Pressure__</th>\n",
       "      <th>Weight_Height_Ratio__</th>\n",
       "    </tr>\n",
       "  </thead>\n",
       "  <tbody>\n",
       "    <tr>\n",
       "      <th>0</th>\n",
       "      <td>5</td>\n",
       "      <td>0</td>\n",
       "      <td>16.877316</td>\n",
       "      <td>46.0</td>\n",
       "      <td>50.8</td>\n",
       "      <td>-1.0</td>\n",
       "      <td>0.0</td>\n",
       "      <td>0.0</td>\n",
       "      <td>0.0</td>\n",
       "      <td>-1</td>\n",
       "      <td>-1.000</td>\n",
       "      <td>-1.0</td>\n",
       "      <td>3.0</td>\n",
       "      <td>-1.0</td>\n",
       "      <td>1.104348</td>\n",
       "    </tr>\n",
       "    <tr>\n",
       "      <th>1</th>\n",
       "      <td>9</td>\n",
       "      <td>0</td>\n",
       "      <td>14.035590</td>\n",
       "      <td>48.0</td>\n",
       "      <td>46.0</td>\n",
       "      <td>122.0</td>\n",
       "      <td>3.0</td>\n",
       "      <td>5.0</td>\n",
       "      <td>1.0</td>\n",
       "      <td>2</td>\n",
       "      <td>2.340</td>\n",
       "      <td>46.0</td>\n",
       "      <td>0.0</td>\n",
       "      <td>47.0</td>\n",
       "      <td>0.958333</td>\n",
       "    </tr>\n",
       "    <tr>\n",
       "      <th>2</th>\n",
       "      <td>10</td>\n",
       "      <td>1</td>\n",
       "      <td>16.648696</td>\n",
       "      <td>56.5</td>\n",
       "      <td>75.6</td>\n",
       "      <td>117.0</td>\n",
       "      <td>20.0</td>\n",
       "      <td>7.0</td>\n",
       "      <td>1.0</td>\n",
       "      <td>1</td>\n",
       "      <td>2.170</td>\n",
       "      <td>38.0</td>\n",
       "      <td>2.0</td>\n",
       "      <td>52.0</td>\n",
       "      <td>1.338053</td>\n",
       "    </tr>\n",
       "    <tr>\n",
       "      <th>3</th>\n",
       "      <td>9</td>\n",
       "      <td>0</td>\n",
       "      <td>18.292347</td>\n",
       "      <td>56.0</td>\n",
       "      <td>81.6</td>\n",
       "      <td>117.0</td>\n",
       "      <td>18.0</td>\n",
       "      <td>5.0</td>\n",
       "      <td>0.0</td>\n",
       "      <td>3</td>\n",
       "      <td>2.451</td>\n",
       "      <td>31.0</td>\n",
       "      <td>0.0</td>\n",
       "      <td>57.0</td>\n",
       "      <td>1.457143</td>\n",
       "    </tr>\n",
       "    <tr>\n",
       "      <th>5</th>\n",
       "      <td>13</td>\n",
       "      <td>1</td>\n",
       "      <td>22.279952</td>\n",
       "      <td>59.5</td>\n",
       "      <td>112.2</td>\n",
       "      <td>102.0</td>\n",
       "      <td>12.0</td>\n",
       "      <td>6.0</td>\n",
       "      <td>1.0</td>\n",
       "      <td>0</td>\n",
       "      <td>4.110</td>\n",
       "      <td>40.0</td>\n",
       "      <td>0.0</td>\n",
       "      <td>42.0</td>\n",
       "      <td>1.885714</td>\n",
       "    </tr>\n",
       "    <tr>\n",
       "      <th>...</th>\n",
       "      <td>...</td>\n",
       "      <td>...</td>\n",
       "      <td>...</td>\n",
       "      <td>...</td>\n",
       "      <td>...</td>\n",
       "      <td>...</td>\n",
       "      <td>...</td>\n",
       "      <td>...</td>\n",
       "      <td>...</td>\n",
       "      <td>...</td>\n",
       "      <td>...</td>\n",
       "      <td>...</td>\n",
       "      <td>...</td>\n",
       "      <td>...</td>\n",
       "      <td>...</td>\n",
       "    </tr>\n",
       "    <tr>\n",
       "      <th>3953</th>\n",
       "      <td>8</td>\n",
       "      <td>0</td>\n",
       "      <td>17.139810</td>\n",
       "      <td>52.5</td>\n",
       "      <td>67.2</td>\n",
       "      <td>112.0</td>\n",
       "      <td>0.0</td>\n",
       "      <td>0.0</td>\n",
       "      <td>1.0</td>\n",
       "      <td>2</td>\n",
       "      <td>3.440</td>\n",
       "      <td>41.0</td>\n",
       "      <td>2.0</td>\n",
       "      <td>52.0</td>\n",
       "      <td>1.280000</td>\n",
       "    </tr>\n",
       "    <tr>\n",
       "      <th>3954</th>\n",
       "      <td>7</td>\n",
       "      <td>1</td>\n",
       "      <td>13.927006</td>\n",
       "      <td>48.5</td>\n",
       "      <td>46.6</td>\n",
       "      <td>105.0</td>\n",
       "      <td>0.0</td>\n",
       "      <td>0.0</td>\n",
       "      <td>0.0</td>\n",
       "      <td>-1</td>\n",
       "      <td>-1.000</td>\n",
       "      <td>48.0</td>\n",
       "      <td>0.0</td>\n",
       "      <td>40.0</td>\n",
       "      <td>0.960825</td>\n",
       "    </tr>\n",
       "    <tr>\n",
       "      <th>3955</th>\n",
       "      <td>13</td>\n",
       "      <td>0</td>\n",
       "      <td>16.362460</td>\n",
       "      <td>59.5</td>\n",
       "      <td>82.4</td>\n",
       "      <td>104.0</td>\n",
       "      <td>16.0</td>\n",
       "      <td>10.0</td>\n",
       "      <td>1.0</td>\n",
       "      <td>3</td>\n",
       "      <td>3.260</td>\n",
       "      <td>35.0</td>\n",
       "      <td>1.0</td>\n",
       "      <td>33.0</td>\n",
       "      <td>1.384874</td>\n",
       "    </tr>\n",
       "    <tr>\n",
       "      <th>3957</th>\n",
       "      <td>11</td>\n",
       "      <td>0</td>\n",
       "      <td>21.441500</td>\n",
       "      <td>60.0</td>\n",
       "      <td>109.8</td>\n",
       "      <td>116.0</td>\n",
       "      <td>15.0</td>\n",
       "      <td>0.0</td>\n",
       "      <td>1.0</td>\n",
       "      <td>3</td>\n",
       "      <td>2.729</td>\n",
       "      <td>56.0</td>\n",
       "      <td>0.0</td>\n",
       "      <td>37.0</td>\n",
       "      <td>1.830000</td>\n",
       "    </tr>\n",
       "    <tr>\n",
       "      <th>3958</th>\n",
       "      <td>13</td>\n",
       "      <td>0</td>\n",
       "      <td>12.235895</td>\n",
       "      <td>70.7</td>\n",
       "      <td>87.0</td>\n",
       "      <td>113.0</td>\n",
       "      <td>-1.0</td>\n",
       "      <td>-1.0</td>\n",
       "      <td>-1.0</td>\n",
       "      <td>0</td>\n",
       "      <td>3.300</td>\n",
       "      <td>33.0</td>\n",
       "      <td>1.0</td>\n",
       "      <td>54.0</td>\n",
       "      <td>1.230552</td>\n",
       "    </tr>\n",
       "  </tbody>\n",
       "</table>\n",
       "<p>2736 rows × 15 columns</p>\n",
       "</div>"
      ],
      "text/plain": [
       "      Basic_Demos-Age  Basic_Demos-Sex  Physical-BMI  Physical-Height  \\\n",
       "0                   5                0     16.877316             46.0   \n",
       "1                   9                0     14.035590             48.0   \n",
       "2                  10                1     16.648696             56.5   \n",
       "3                   9                0     18.292347             56.0   \n",
       "5                  13                1     22.279952             59.5   \n",
       "...               ...              ...           ...              ...   \n",
       "3953                8                0     17.139810             52.5   \n",
       "3954                7                1     13.927006             48.5   \n",
       "3955               13                0     16.362460             59.5   \n",
       "3957               11                0     21.441500             60.0   \n",
       "3958               13                0     12.235895             70.7   \n",
       "\n",
       "      Physical-Weight  Physical-Systolic_BP  FGC-FGC_CU  FGC-FGC_PU  \\\n",
       "0                50.8                  -1.0         0.0         0.0   \n",
       "1                46.0                 122.0         3.0         5.0   \n",
       "2                75.6                 117.0        20.0         7.0   \n",
       "3                81.6                 117.0        18.0         5.0   \n",
       "5               112.2                 102.0        12.0         6.0   \n",
       "...               ...                   ...         ...         ...   \n",
       "3953             67.2                 112.0         0.0         0.0   \n",
       "3954             46.6                 105.0         0.0         0.0   \n",
       "3955             82.4                 104.0        16.0        10.0   \n",
       "3957            109.8                 116.0        15.0         0.0   \n",
       "3958             87.0                 113.0        -1.0        -1.0   \n",
       "\n",
       "      FGC-FGC_SRL_Zone  PAQ_C-Season  PAQ_C-PAQ_C_Total  SDS-SDS_Total_Raw  \\\n",
       "0                  0.0            -1             -1.000               -1.0   \n",
       "1                  1.0             2              2.340               46.0   \n",
       "2                  1.0             1              2.170               38.0   \n",
       "3                  0.0             3              2.451               31.0   \n",
       "5                  1.0             0              4.110               40.0   \n",
       "...                ...           ...                ...                ...   \n",
       "3953               1.0             2              3.440               41.0   \n",
       "3954               0.0            -1             -1.000               48.0   \n",
       "3955               1.0             3              3.260               35.0   \n",
       "3957               1.0             3              2.729               56.0   \n",
       "3958              -1.0             0              3.300               33.0   \n",
       "\n",
       "      PreInt_EduHx-computerinternet_hoursday  Pulse_Pressure__  \\\n",
       "0                                        3.0              -1.0   \n",
       "1                                        0.0              47.0   \n",
       "2                                        2.0              52.0   \n",
       "3                                        0.0              57.0   \n",
       "5                                        0.0              42.0   \n",
       "...                                      ...               ...   \n",
       "3953                                     2.0              52.0   \n",
       "3954                                     0.0              40.0   \n",
       "3955                                     1.0              33.0   \n",
       "3957                                     0.0              37.0   \n",
       "3958                                     1.0              54.0   \n",
       "\n",
       "      Weight_Height_Ratio__  \n",
       "0                  1.104348  \n",
       "1                  0.958333  \n",
       "2                  1.338053  \n",
       "3                  1.457143  \n",
       "5                  1.885714  \n",
       "...                     ...  \n",
       "3953               1.280000  \n",
       "3954               0.960825  \n",
       "3955               1.384874  \n",
       "3957               1.830000  \n",
       "3958               1.230552  \n",
       "\n",
       "[2736 rows x 15 columns]"
      ]
     },
     "execution_count": 27,
     "metadata": {},
     "output_type": "execute_result"
    }
   ],
   "source": [
    "df_aggregated_train"
   ]
  },
  {
   "cell_type": "code",
   "execution_count": 28,
   "id": "c0195102",
   "metadata": {
    "execution": {
     "iopub.execute_input": "2024-12-19T03:15:55.786854Z",
     "iopub.status.busy": "2024-12-19T03:15:55.786484Z",
     "iopub.status.idle": "2024-12-19T03:15:55.810384Z",
     "shell.execute_reply": "2024-12-19T03:15:55.809347Z"
    },
    "papermill": {
     "duration": 0.042298,
     "end_time": "2024-12-19T03:15:55.812528",
     "exception": false,
     "start_time": "2024-12-19T03:15:55.770230",
     "status": "completed"
    },
    "tags": []
   },
   "outputs": [
    {
     "data": {
      "text/html": [
       "<div>\n",
       "<style scoped>\n",
       "    .dataframe tbody tr th:only-of-type {\n",
       "        vertical-align: middle;\n",
       "    }\n",
       "\n",
       "    .dataframe tbody tr th {\n",
       "        vertical-align: top;\n",
       "    }\n",
       "\n",
       "    .dataframe thead th {\n",
       "        text-align: right;\n",
       "    }\n",
       "</style>\n",
       "<table border=\"1\" class=\"dataframe\">\n",
       "  <thead>\n",
       "    <tr style=\"text-align: right;\">\n",
       "      <th></th>\n",
       "      <th>Basic_Demos-Age</th>\n",
       "      <th>Basic_Demos-Sex</th>\n",
       "      <th>Physical-BMI</th>\n",
       "      <th>Physical-Height</th>\n",
       "      <th>Physical-Weight</th>\n",
       "      <th>Physical-Systolic_BP</th>\n",
       "      <th>FGC-FGC_CU</th>\n",
       "      <th>FGC-FGC_PU</th>\n",
       "      <th>FGC-FGC_SRL_Zone</th>\n",
       "      <th>PAQ_C-Season</th>\n",
       "      <th>PAQ_C-PAQ_C_Total</th>\n",
       "      <th>SDS-SDS_Total_Raw</th>\n",
       "      <th>PreInt_EduHx-computerinternet_hoursday</th>\n",
       "      <th>Pulse_Pressure__</th>\n",
       "      <th>Weight_Height_Ratio__</th>\n",
       "    </tr>\n",
       "  </thead>\n",
       "  <tbody>\n",
       "    <tr>\n",
       "      <th>0</th>\n",
       "      <td>5</td>\n",
       "      <td>0</td>\n",
       "      <td>16.877316</td>\n",
       "      <td>46.0</td>\n",
       "      <td>50.8</td>\n",
       "      <td>-1.0</td>\n",
       "      <td>0.0</td>\n",
       "      <td>0.0</td>\n",
       "      <td>0.0</td>\n",
       "      <td>-1</td>\n",
       "      <td>-1.000</td>\n",
       "      <td>-1.0</td>\n",
       "      <td>3.0</td>\n",
       "      <td>-1.0</td>\n",
       "      <td>1.104348</td>\n",
       "    </tr>\n",
       "    <tr>\n",
       "      <th>1</th>\n",
       "      <td>9</td>\n",
       "      <td>0</td>\n",
       "      <td>14.035590</td>\n",
       "      <td>48.0</td>\n",
       "      <td>46.0</td>\n",
       "      <td>122.0</td>\n",
       "      <td>3.0</td>\n",
       "      <td>5.0</td>\n",
       "      <td>1.0</td>\n",
       "      <td>2</td>\n",
       "      <td>2.340</td>\n",
       "      <td>46.0</td>\n",
       "      <td>0.0</td>\n",
       "      <td>47.0</td>\n",
       "      <td>0.958333</td>\n",
       "    </tr>\n",
       "    <tr>\n",
       "      <th>2</th>\n",
       "      <td>10</td>\n",
       "      <td>1</td>\n",
       "      <td>16.648696</td>\n",
       "      <td>56.5</td>\n",
       "      <td>75.6</td>\n",
       "      <td>117.0</td>\n",
       "      <td>20.0</td>\n",
       "      <td>7.0</td>\n",
       "      <td>1.0</td>\n",
       "      <td>1</td>\n",
       "      <td>2.170</td>\n",
       "      <td>38.0</td>\n",
       "      <td>2.0</td>\n",
       "      <td>52.0</td>\n",
       "      <td>1.338053</td>\n",
       "    </tr>\n",
       "    <tr>\n",
       "      <th>3</th>\n",
       "      <td>9</td>\n",
       "      <td>0</td>\n",
       "      <td>18.292347</td>\n",
       "      <td>56.0</td>\n",
       "      <td>81.6</td>\n",
       "      <td>117.0</td>\n",
       "      <td>18.0</td>\n",
       "      <td>5.0</td>\n",
       "      <td>0.0</td>\n",
       "      <td>3</td>\n",
       "      <td>2.451</td>\n",
       "      <td>31.0</td>\n",
       "      <td>0.0</td>\n",
       "      <td>57.0</td>\n",
       "      <td>1.457143</td>\n",
       "    </tr>\n",
       "    <tr>\n",
       "      <th>4</th>\n",
       "      <td>18</td>\n",
       "      <td>1</td>\n",
       "      <td>-1.000000</td>\n",
       "      <td>-1.0</td>\n",
       "      <td>-1.0</td>\n",
       "      <td>-1.0</td>\n",
       "      <td>-1.0</td>\n",
       "      <td>-1.0</td>\n",
       "      <td>-1.0</td>\n",
       "      <td>-1</td>\n",
       "      <td>-1.000</td>\n",
       "      <td>-1.0</td>\n",
       "      <td>-1.0</td>\n",
       "      <td>-1.0</td>\n",
       "      <td>-1.000000</td>\n",
       "    </tr>\n",
       "    <tr>\n",
       "      <th>...</th>\n",
       "      <td>...</td>\n",
       "      <td>...</td>\n",
       "      <td>...</td>\n",
       "      <td>...</td>\n",
       "      <td>...</td>\n",
       "      <td>...</td>\n",
       "      <td>...</td>\n",
       "      <td>...</td>\n",
       "      <td>...</td>\n",
       "      <td>...</td>\n",
       "      <td>...</td>\n",
       "      <td>...</td>\n",
       "      <td>...</td>\n",
       "      <td>...</td>\n",
       "      <td>...</td>\n",
       "    </tr>\n",
       "    <tr>\n",
       "      <th>15</th>\n",
       "      <td>7</td>\n",
       "      <td>0</td>\n",
       "      <td>29.315775</td>\n",
       "      <td>54.0</td>\n",
       "      <td>121.6</td>\n",
       "      <td>99.0</td>\n",
       "      <td>6.0</td>\n",
       "      <td>0.0</td>\n",
       "      <td>1.0</td>\n",
       "      <td>-1</td>\n",
       "      <td>-1.000</td>\n",
       "      <td>35.0</td>\n",
       "      <td>2.0</td>\n",
       "      <td>19.0</td>\n",
       "      <td>2.251852</td>\n",
       "    </tr>\n",
       "    <tr>\n",
       "      <th>16</th>\n",
       "      <td>5</td>\n",
       "      <td>1</td>\n",
       "      <td>17.284504</td>\n",
       "      <td>44.0</td>\n",
       "      <td>47.6</td>\n",
       "      <td>109.0</td>\n",
       "      <td>0.0</td>\n",
       "      <td>0.0</td>\n",
       "      <td>1.0</td>\n",
       "      <td>-1</td>\n",
       "      <td>-1.000</td>\n",
       "      <td>37.0</td>\n",
       "      <td>0.0</td>\n",
       "      <td>48.0</td>\n",
       "      <td>1.081818</td>\n",
       "    </tr>\n",
       "    <tr>\n",
       "      <th>17</th>\n",
       "      <td>10</td>\n",
       "      <td>1</td>\n",
       "      <td>19.893157</td>\n",
       "      <td>55.0</td>\n",
       "      <td>85.6</td>\n",
       "      <td>-1.0</td>\n",
       "      <td>5.0</td>\n",
       "      <td>0.0</td>\n",
       "      <td>0.0</td>\n",
       "      <td>-1</td>\n",
       "      <td>-1.000</td>\n",
       "      <td>-1.0</td>\n",
       "      <td>1.0</td>\n",
       "      <td>-1.0</td>\n",
       "      <td>1.556364</td>\n",
       "    </tr>\n",
       "    <tr>\n",
       "      <th>18</th>\n",
       "      <td>6</td>\n",
       "      <td>0</td>\n",
       "      <td>30.094649</td>\n",
       "      <td>37.5</td>\n",
       "      <td>60.2</td>\n",
       "      <td>95.0</td>\n",
       "      <td>6.0</td>\n",
       "      <td>0.0</td>\n",
       "      <td>0.0</td>\n",
       "      <td>-1</td>\n",
       "      <td>-1.000</td>\n",
       "      <td>39.0</td>\n",
       "      <td>3.0</td>\n",
       "      <td>34.0</td>\n",
       "      <td>1.605333</td>\n",
       "    </tr>\n",
       "    <tr>\n",
       "      <th>19</th>\n",
       "      <td>10</td>\n",
       "      <td>0</td>\n",
       "      <td>-1.000000</td>\n",
       "      <td>-1.0</td>\n",
       "      <td>-1.0</td>\n",
       "      <td>-1.0</td>\n",
       "      <td>-1.0</td>\n",
       "      <td>-1.0</td>\n",
       "      <td>-1.0</td>\n",
       "      <td>-1</td>\n",
       "      <td>-1.000</td>\n",
       "      <td>-1.0</td>\n",
       "      <td>2.0</td>\n",
       "      <td>-1.0</td>\n",
       "      <td>-1.000000</td>\n",
       "    </tr>\n",
       "  </tbody>\n",
       "</table>\n",
       "<p>20 rows × 15 columns</p>\n",
       "</div>"
      ],
      "text/plain": [
       "    Basic_Demos-Age  Basic_Demos-Sex  Physical-BMI  Physical-Height  \\\n",
       "0                 5                0     16.877316             46.0   \n",
       "1                 9                0     14.035590             48.0   \n",
       "2                10                1     16.648696             56.5   \n",
       "3                 9                0     18.292347             56.0   \n",
       "4                18                1     -1.000000             -1.0   \n",
       "..              ...              ...           ...              ...   \n",
       "15                7                0     29.315775             54.0   \n",
       "16                5                1     17.284504             44.0   \n",
       "17               10                1     19.893157             55.0   \n",
       "18                6                0     30.094649             37.5   \n",
       "19               10                0     -1.000000             -1.0   \n",
       "\n",
       "    Physical-Weight  Physical-Systolic_BP  FGC-FGC_CU  FGC-FGC_PU  \\\n",
       "0              50.8                  -1.0         0.0         0.0   \n",
       "1              46.0                 122.0         3.0         5.0   \n",
       "2              75.6                 117.0        20.0         7.0   \n",
       "3              81.6                 117.0        18.0         5.0   \n",
       "4              -1.0                  -1.0        -1.0        -1.0   \n",
       "..              ...                   ...         ...         ...   \n",
       "15            121.6                  99.0         6.0         0.0   \n",
       "16             47.6                 109.0         0.0         0.0   \n",
       "17             85.6                  -1.0         5.0         0.0   \n",
       "18             60.2                  95.0         6.0         0.0   \n",
       "19             -1.0                  -1.0        -1.0        -1.0   \n",
       "\n",
       "    FGC-FGC_SRL_Zone  PAQ_C-Season  PAQ_C-PAQ_C_Total  SDS-SDS_Total_Raw  \\\n",
       "0                0.0            -1             -1.000               -1.0   \n",
       "1                1.0             2              2.340               46.0   \n",
       "2                1.0             1              2.170               38.0   \n",
       "3                0.0             3              2.451               31.0   \n",
       "4               -1.0            -1             -1.000               -1.0   \n",
       "..               ...           ...                ...                ...   \n",
       "15               1.0            -1             -1.000               35.0   \n",
       "16               1.0            -1             -1.000               37.0   \n",
       "17               0.0            -1             -1.000               -1.0   \n",
       "18               0.0            -1             -1.000               39.0   \n",
       "19              -1.0            -1             -1.000               -1.0   \n",
       "\n",
       "    PreInt_EduHx-computerinternet_hoursday  Pulse_Pressure__  \\\n",
       "0                                      3.0              -1.0   \n",
       "1                                      0.0              47.0   \n",
       "2                                      2.0              52.0   \n",
       "3                                      0.0              57.0   \n",
       "4                                     -1.0              -1.0   \n",
       "..                                     ...               ...   \n",
       "15                                     2.0              19.0   \n",
       "16                                     0.0              48.0   \n",
       "17                                     1.0              -1.0   \n",
       "18                                     3.0              34.0   \n",
       "19                                     2.0              -1.0   \n",
       "\n",
       "    Weight_Height_Ratio__  \n",
       "0                1.104348  \n",
       "1                0.958333  \n",
       "2                1.338053  \n",
       "3                1.457143  \n",
       "4               -1.000000  \n",
       "..                    ...  \n",
       "15               2.251852  \n",
       "16               1.081818  \n",
       "17               1.556364  \n",
       "18               1.605333  \n",
       "19              -1.000000  \n",
       "\n",
       "[20 rows x 15 columns]"
      ]
     },
     "execution_count": 28,
     "metadata": {},
     "output_type": "execute_result"
    }
   ],
   "source": [
    "df_aggregated_test"
   ]
  },
  {
   "cell_type": "markdown",
   "id": "18fdf50e",
   "metadata": {
    "papermill": {
     "duration": 0.015403,
     "end_time": "2024-12-19T03:15:55.843406",
     "exception": false,
     "start_time": "2024-12-19T03:15:55.828003",
     "status": "completed"
    },
    "tags": []
   },
   "source": [
    "# Model Training"
   ]
  },
  {
   "cell_type": "code",
   "execution_count": 29,
   "id": "326cb044",
   "metadata": {
    "execution": {
     "iopub.execute_input": "2024-12-19T03:15:55.876661Z",
     "iopub.status.busy": "2024-12-19T03:15:55.876230Z",
     "iopub.status.idle": "2024-12-19T03:15:55.885819Z",
     "shell.execute_reply": "2024-12-19T03:15:55.884762Z"
    },
    "papermill": {
     "duration": 0.029412,
     "end_time": "2024-12-19T03:15:55.888114",
     "exception": false,
     "start_time": "2024-12-19T03:15:55.858702",
     "status": "completed"
    },
    "tags": []
   },
   "outputs": [],
   "source": [
    "X_train, X_test, y_train, y_test = train_test_split(df_aggregated_train, label, test_size=0.2, random_state=2)"
   ]
  },
  {
   "cell_type": "code",
   "execution_count": 30,
   "id": "ebbbf5d0",
   "metadata": {
    "execution": {
     "iopub.execute_input": "2024-12-19T03:15:55.920507Z",
     "iopub.status.busy": "2024-12-19T03:15:55.920065Z",
     "iopub.status.idle": "2024-12-19T03:15:55.924869Z",
     "shell.execute_reply": "2024-12-19T03:15:55.923721Z"
    },
    "papermill": {
     "duration": 0.023602,
     "end_time": "2024-12-19T03:15:55.927070",
     "exception": false,
     "start_time": "2024-12-19T03:15:55.903468",
     "status": "completed"
    },
    "tags": []
   },
   "outputs": [],
   "source": [
    "# Feature Scaling\n",
    "# scaler = StandardScaler()\n",
    "# X_train_scaled = scaler.fit_transform(X_train)\n",
    "# X_test_scaled = scaler.transform(X_test)"
   ]
  },
  {
   "cell_type": "code",
   "execution_count": 31,
   "id": "9df3cfae",
   "metadata": {
    "execution": {
     "iopub.execute_input": "2024-12-19T03:15:55.959978Z",
     "iopub.status.busy": "2024-12-19T03:15:55.959588Z",
     "iopub.status.idle": "2024-12-19T03:15:55.964549Z",
     "shell.execute_reply": "2024-12-19T03:15:55.963478Z"
    },
    "papermill": {
     "duration": 0.024232,
     "end_time": "2024-12-19T03:15:55.966809",
     "exception": false,
     "start_time": "2024-12-19T03:15:55.942577",
     "status": "completed"
    },
    "tags": []
   },
   "outputs": [],
   "source": [
    "# Apply PCA\n",
    "# pca = PCA(n_components=0.95)  # Keep 95% of the variance\n",
    "# X_train_pca = pca.fit_transform(X_train_scaled)\n",
    "# X_test_pca = pca.transform(X_test_scaled)"
   ]
  },
  {
   "cell_type": "markdown",
   "id": "2a05abc6",
   "metadata": {
    "papermill": {
     "duration": 0.015409,
     "end_time": "2024-12-19T03:15:55.997858",
     "exception": false,
     "start_time": "2024-12-19T03:15:55.982449",
     "status": "completed"
    },
    "tags": []
   },
   "source": [
    "## Random Forest"
   ]
  },
  {
   "cell_type": "code",
   "execution_count": 32,
   "id": "ad5d2068",
   "metadata": {
    "execution": {
     "iopub.execute_input": "2024-12-19T03:15:56.031438Z",
     "iopub.status.busy": "2024-12-19T03:15:56.031048Z",
     "iopub.status.idle": "2024-12-19T03:16:02.275156Z",
     "shell.execute_reply": "2024-12-19T03:16:02.273984Z"
    },
    "papermill": {
     "duration": 6.264391,
     "end_time": "2024-12-19T03:16:02.277614",
     "exception": false,
     "start_time": "2024-12-19T03:15:56.013223",
     "status": "completed"
    },
    "tags": []
   },
   "outputs": [
    {
     "name": "stdout",
     "output_type": "stream",
     "text": [
      "Best max_depth: 8\n"
     ]
    }
   ],
   "source": [
    "rf_model = RandomForestClassifier(n_estimators=100, random_state=42, \n",
    "                                  max_depth=10, \n",
    "                                  min_samples_split=10, \n",
    "                                  min_samples_leaf=4)\n",
    "rf_model.fit(X_train, y_train)\n",
    "\n",
    "param_grid = {\n",
    "    'max_depth': [8, 10, 12]  # Experiment with different depths\n",
    "}\n",
    "\n",
    "rf_model = RandomForestClassifier(n_estimators=100, random_state=42)\n",
    "grid_search = GridSearchCV(rf_model, param_grid, cv=5)\n",
    "grid_search.fit(X_train, y_train)\n",
    "print(\"Best max_depth:\", grid_search.best_params_['max_depth'])"
   ]
  },
  {
   "cell_type": "code",
   "execution_count": 33,
   "id": "2c2cdc2d",
   "metadata": {
    "execution": {
     "iopub.execute_input": "2024-12-19T03:16:02.310537Z",
     "iopub.status.busy": "2024-12-19T03:16:02.310153Z",
     "iopub.status.idle": "2024-12-19T03:16:02.314878Z",
     "shell.execute_reply": "2024-12-19T03:16:02.313975Z"
    },
    "papermill": {
     "duration": 0.023556,
     "end_time": "2024-12-19T03:16:02.316827",
     "exception": false,
     "start_time": "2024-12-19T03:16:02.293271",
     "status": "completed"
    },
    "tags": []
   },
   "outputs": [],
   "source": [
    "best_rf_model = grid_search.best_estimator_\n",
    "# best_rf_model"
   ]
  },
  {
   "cell_type": "markdown",
   "id": "f575110f",
   "metadata": {
    "papermill": {
     "duration": 0.015181,
     "end_time": "2024-12-19T03:16:02.347519",
     "exception": false,
     "start_time": "2024-12-19T03:16:02.332338",
     "status": "completed"
    },
    "tags": []
   },
   "source": [
    "## XGBoost"
   ]
  },
  {
   "cell_type": "code",
   "execution_count": 34,
   "id": "fe36cffd",
   "metadata": {
    "execution": {
     "iopub.execute_input": "2024-12-19T03:16:02.380463Z",
     "iopub.status.busy": "2024-12-19T03:16:02.380060Z",
     "iopub.status.idle": "2024-12-19T03:16:02.385191Z",
     "shell.execute_reply": "2024-12-19T03:16:02.384079Z"
    },
    "papermill": {
     "duration": 0.024482,
     "end_time": "2024-12-19T03:16:02.387623",
     "exception": false,
     "start_time": "2024-12-19T03:16:02.363141",
     "status": "completed"
    },
    "tags": []
   },
   "outputs": [],
   "source": [
    "# XGBoost_model = XGBClassifier(n_estimators=100, max_depth=10, learning_rate=0.1, random_state=42)\n",
    "# XGBoost_model.fit(X_train, y_train)"
   ]
  },
  {
   "cell_type": "markdown",
   "id": "af6644b0",
   "metadata": {
    "papermill": {
     "duration": 0.015988,
     "end_time": "2024-12-19T03:16:02.420280",
     "exception": false,
     "start_time": "2024-12-19T03:16:02.404292",
     "status": "completed"
    },
    "tags": []
   },
   "source": [
    "## LightGBM"
   ]
  },
  {
   "cell_type": "code",
   "execution_count": 35,
   "id": "2a26c3a7",
   "metadata": {
    "execution": {
     "iopub.execute_input": "2024-12-19T03:16:02.453729Z",
     "iopub.status.busy": "2024-12-19T03:16:02.452762Z",
     "iopub.status.idle": "2024-12-19T03:16:02.457514Z",
     "shell.execute_reply": "2024-12-19T03:16:02.456510Z"
    },
    "papermill": {
     "duration": 0.023804,
     "end_time": "2024-12-19T03:16:02.459629",
     "exception": false,
     "start_time": "2024-12-19T03:16:02.435825",
     "status": "completed"
    },
    "tags": []
   },
   "outputs": [],
   "source": [
    "# LGBM_model = LGBMClassifier(n_estimators=100, max_depth=-1, learning_rate=0.1, random_state=42)\n",
    "# LGBM_model.fit(X_train, y_train)"
   ]
  },
  {
   "cell_type": "markdown",
   "id": "f0103edb",
   "metadata": {
    "papermill": {
     "duration": 0.015329,
     "end_time": "2024-12-19T03:16:02.490871",
     "exception": false,
     "start_time": "2024-12-19T03:16:02.475542",
     "status": "completed"
    },
    "tags": []
   },
   "source": [
    "## CatBoost"
   ]
  },
  {
   "cell_type": "code",
   "execution_count": 36,
   "id": "feb47f45",
   "metadata": {
    "execution": {
     "iopub.execute_input": "2024-12-19T03:16:02.523984Z",
     "iopub.status.busy": "2024-12-19T03:16:02.523532Z",
     "iopub.status.idle": "2024-12-19T03:16:02.528243Z",
     "shell.execute_reply": "2024-12-19T03:16:02.527223Z"
    },
    "papermill": {
     "duration": 0.023816,
     "end_time": "2024-12-19T03:16:02.530437",
     "exception": false,
     "start_time": "2024-12-19T03:16:02.506621",
     "status": "completed"
    },
    "tags": []
   },
   "outputs": [],
   "source": [
    "# CatBoost_model = CatBoostClassifier(iterations=100, learning_rate=0.1, depth=6, verbose=0)\n",
    "# CatBoost_model.fit(X_train, y_train)"
   ]
  },
  {
   "cell_type": "markdown",
   "id": "4f03984e",
   "metadata": {
    "papermill": {
     "duration": 0.015276,
     "end_time": "2024-12-19T03:16:02.561424",
     "exception": false,
     "start_time": "2024-12-19T03:16:02.546148",
     "status": "completed"
    },
    "tags": []
   },
   "source": [
    "## Model Ensemble"
   ]
  },
  {
   "cell_type": "markdown",
   "id": "0c72dffc",
   "metadata": {
    "papermill": {
     "duration": 0.015393,
     "end_time": "2024-12-19T03:16:02.592361",
     "exception": false,
     "start_time": "2024-12-19T03:16:02.576968",
     "status": "completed"
    },
    "tags": []
   },
   "source": [
    "# Model Evaluation"
   ]
  },
  {
   "cell_type": "code",
   "execution_count": 37,
   "id": "4721dc46",
   "metadata": {
    "execution": {
     "iopub.execute_input": "2024-12-19T03:16:02.626794Z",
     "iopub.status.busy": "2024-12-19T03:16:02.626398Z",
     "iopub.status.idle": "2024-12-19T03:16:02.645939Z",
     "shell.execute_reply": "2024-12-19T03:16:02.644974Z"
    },
    "papermill": {
     "duration": 0.038911,
     "end_time": "2024-12-19T03:16:02.648206",
     "exception": false,
     "start_time": "2024-12-19T03:16:02.609295",
     "status": "completed"
    },
    "tags": []
   },
   "outputs": [],
   "source": [
    "# Random Forest\n",
    "y_pred = best_rf_model.predict(X_test)\n",
    "\n",
    "# XGBoost\n",
    "# y_pred = XGBoost_model.predict(X_test)\n",
    "\n",
    "# LightGBM\n",
    "# y_pred = LGBM_model.predict(X_test)\n",
    "\n",
    "# CatBoost\n",
    "# y_pred = CatBoost_model.predict(X_test)\n",
    "\n",
    "# Model Ensemble\n",
    "#y_pred = ensemble_model.predict(X_test)"
   ]
  },
  {
   "cell_type": "code",
   "execution_count": 38,
   "id": "fe7c7ec6",
   "metadata": {
    "execution": {
     "iopub.execute_input": "2024-12-19T03:16:02.681105Z",
     "iopub.status.busy": "2024-12-19T03:16:02.680691Z",
     "iopub.status.idle": "2024-12-19T03:16:02.700221Z",
     "shell.execute_reply": "2024-12-19T03:16:02.699074Z"
    },
    "papermill": {
     "duration": 0.039166,
     "end_time": "2024-12-19T03:16:02.702832",
     "exception": false,
     "start_time": "2024-12-19T03:16:02.663666",
     "status": "completed"
    },
    "tags": []
   },
   "outputs": [
    {
     "name": "stdout",
     "output_type": "stream",
     "text": [
      "              precision    recall  f1-score   support\n",
      "\n",
      "         0.0       0.92      0.64      0.75       450\n",
      "         1.0       0.18      0.35      0.24        79\n",
      "         2.0       0.10      0.42      0.17        19\n",
      "         3.0       0.00      0.00      0.00         0\n",
      "\n",
      "    accuracy                           0.59       548\n",
      "   macro avg       0.30      0.35      0.29       548\n",
      "weighted avg       0.79      0.59      0.66       548\n",
      "\n",
      "[[287 117  45   1]\n",
      " [ 22  28  24   5]\n",
      " [  3   7   8   1]\n",
      " [  0   0   0   0]]\n"
     ]
    },
    {
     "name": "stderr",
     "output_type": "stream",
     "text": [
      "/opt/conda/lib/python3.10/site-packages/sklearn/metrics/_classification.py:1344: UndefinedMetricWarning: Recall and F-score are ill-defined and being set to 0.0 in labels with no true samples. Use `zero_division` parameter to control this behavior.\n",
      "  _warn_prf(average, modifier, msg_start, len(result))\n",
      "/opt/conda/lib/python3.10/site-packages/sklearn/metrics/_classification.py:1344: UndefinedMetricWarning: Recall and F-score are ill-defined and being set to 0.0 in labels with no true samples. Use `zero_division` parameter to control this behavior.\n",
      "  _warn_prf(average, modifier, msg_start, len(result))\n",
      "/opt/conda/lib/python3.10/site-packages/sklearn/metrics/_classification.py:1344: UndefinedMetricWarning: Recall and F-score are ill-defined and being set to 0.0 in labels with no true samples. Use `zero_division` parameter to control this behavior.\n",
      "  _warn_prf(average, modifier, msg_start, len(result))\n"
     ]
    }
   ],
   "source": [
    "print(classification_report(y_pred, y_test))\n",
    "print(confusion_matrix(y_pred, y_test))"
   ]
  },
  {
   "cell_type": "markdown",
   "id": "11533b59",
   "metadata": {
    "papermill": {
     "duration": 0.015917,
     "end_time": "2024-12-19T03:16:02.734691",
     "exception": false,
     "start_time": "2024-12-19T03:16:02.718774",
     "status": "completed"
    },
    "tags": []
   },
   "source": [
    "# Submit"
   ]
  },
  {
   "cell_type": "code",
   "execution_count": 39,
   "id": "a76fc4d6",
   "metadata": {
    "execution": {
     "iopub.execute_input": "2024-12-19T03:16:02.767920Z",
     "iopub.status.busy": "2024-12-19T03:16:02.767188Z",
     "iopub.status.idle": "2024-12-19T03:16:02.779639Z",
     "shell.execute_reply": "2024-12-19T03:16:02.778599Z"
    },
    "papermill": {
     "duration": 0.031818,
     "end_time": "2024-12-19T03:16:02.782016",
     "exception": false,
     "start_time": "2024-12-19T03:16:02.750198",
     "status": "completed"
    },
    "tags": []
   },
   "outputs": [],
   "source": [
    "y_pred = best_rf_model.predict(df_aggregated_test)"
   ]
  },
  {
   "cell_type": "code",
   "execution_count": 40,
   "id": "bf6541ca",
   "metadata": {
    "execution": {
     "iopub.execute_input": "2024-12-19T03:16:02.815549Z",
     "iopub.status.busy": "2024-12-19T03:16:02.814638Z",
     "iopub.status.idle": "2024-12-19T03:16:02.827649Z",
     "shell.execute_reply": "2024-12-19T03:16:02.826476Z"
    },
    "papermill": {
     "duration": 0.032024,
     "end_time": "2024-12-19T03:16:02.829825",
     "exception": false,
     "start_time": "2024-12-19T03:16:02.797801",
     "status": "completed"
    },
    "tags": []
   },
   "outputs": [
    {
     "name": "stdout",
     "output_type": "stream",
     "text": [
      "         id  sii\n",
      "0  00008ff9  0.0\n",
      "1  000fd460  0.0\n",
      "2  00105258  0.0\n",
      "3  00115b9f  0.0\n",
      "4  0016bb22  0.0\n"
     ]
    }
   ],
   "source": [
    "df_test = pd.read_csv(\"/kaggle/input/child-mind-institute-problematic-internet-use/test.csv\")\n",
    "submission = pd.DataFrame({\n",
    "    'id': df_test['id'],  # Include 'id' from test_data\n",
    "    'sii': y_pred  # Predictions from the model\n",
    "})\n",
    "print(submission.head())"
   ]
  },
  {
   "cell_type": "code",
   "execution_count": 41,
   "id": "af546820",
   "metadata": {
    "execution": {
     "iopub.execute_input": "2024-12-19T03:16:02.863183Z",
     "iopub.status.busy": "2024-12-19T03:16:02.862347Z",
     "iopub.status.idle": "2024-12-19T03:16:02.870171Z",
     "shell.execute_reply": "2024-12-19T03:16:02.869059Z"
    },
    "papermill": {
     "duration": 0.026911,
     "end_time": "2024-12-19T03:16:02.872470",
     "exception": false,
     "start_time": "2024-12-19T03:16:02.845559",
     "status": "completed"
    },
    "tags": []
   },
   "outputs": [],
   "source": [
    "df = submission.to_csv('submission.csv', index=False)"
   ]
  },
  {
   "cell_type": "code",
   "execution_count": 42,
   "id": "c735576f",
   "metadata": {
    "execution": {
     "iopub.execute_input": "2024-12-19T03:16:02.906520Z",
     "iopub.status.busy": "2024-12-19T03:16:02.905626Z",
     "iopub.status.idle": "2024-12-19T03:16:02.914778Z",
     "shell.execute_reply": "2024-12-19T03:16:02.913514Z"
    },
    "papermill": {
     "duration": 0.028828,
     "end_time": "2024-12-19T03:16:02.917028",
     "exception": false,
     "start_time": "2024-12-19T03:16:02.888200",
     "status": "completed"
    },
    "tags": []
   },
   "outputs": [
    {
     "data": {
      "text/plain": [
       "sii\n",
       "0.0    19\n",
       "1.0     1\n",
       "Name: count, dtype: int64"
      ]
     },
     "execution_count": 42,
     "metadata": {},
     "output_type": "execute_result"
    }
   ],
   "source": [
    "submission['sii'].value_counts()"
   ]
  },
  {
   "cell_type": "code",
   "execution_count": null,
   "id": "3fa71153",
   "metadata": {
    "papermill": {
     "duration": 0.015436,
     "end_time": "2024-12-19T03:16:02.948469",
     "exception": false,
     "start_time": "2024-12-19T03:16:02.933033",
     "status": "completed"
    },
    "tags": []
   },
   "outputs": [],
   "source": []
  }
 ],
 "metadata": {
  "kaggle": {
   "accelerator": "none",
   "dataSources": [
    {
     "databundleVersionId": 9643020,
     "sourceId": 81933,
     "sourceType": "competition"
    }
   ],
   "dockerImageVersionId": 30804,
   "isGpuEnabled": false,
   "isInternetEnabled": false,
   "language": "python",
   "sourceType": "notebook"
  },
  "kernelspec": {
   "display_name": "Python 3",
   "language": "python",
   "name": "python3"
  },
  "language_info": {
   "codemirror_mode": {
    "name": "ipython",
    "version": 3
   },
   "file_extension": ".py",
   "mimetype": "text/x-python",
   "name": "python",
   "nbconvert_exporter": "python",
   "pygments_lexer": "ipython3",
   "version": "3.10.14"
  },
  "papermill": {
   "default_parameters": {},
   "duration": 18.616369,
   "end_time": "2024-12-19T03:16:03.786133",
   "environment_variables": {},
   "exception": null,
   "input_path": "__notebook__.ipynb",
   "output_path": "__notebook__.ipynb",
   "parameters": {},
   "start_time": "2024-12-19T03:15:45.169764",
   "version": "2.6.0"
  }
 },
 "nbformat": 4,
 "nbformat_minor": 5
}
